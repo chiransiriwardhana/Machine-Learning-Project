{
 "cells": [
  {
   "cell_type": "code",
   "execution_count": 1,
   "metadata": {},
   "outputs": [],
   "source": [
    "import math\n",
    "import pandas as pd\n",
    "import numpy as np\n",
    "import seaborn as sns\n",
    "import scipy.stats as st\n",
    "from collections import Counter\n",
    "from mlxtend.evaluate import confusion_matrix\n",
    "from mlxtend.plotting import plot_confusion_matrix\n",
    "import matplotlib.pyplot as plt\n",
    "from sklearn.metrics import accuracy_score\n",
    "from xgboost import XGBClassifier\n",
    "from sklearn.model_selection import train_test_split\n",
    "from sklearn.model_selection import KFold\n",
    "from sklearn.model_selection import cross_val_score"
   ]
  },
  {
   "cell_type": "markdown",
   "metadata": {},
   "source": [
    "### import  train,test, and label dataset"
   ]
  },
  {
   "cell_type": "code",
   "execution_count": 2,
   "metadata": {},
   "outputs": [],
   "source": [
    "train = pd.read_csv(\"D:/Semester 7/Training_set_values.csv\")\n",
    "test = pd.read_csv(\"D:/Semester 7/Test_set_values.csv\")\n",
    "train_label = pd.read_csv(\"D:/Semester 7/Training_set_labels.csv\")"
   ]
  },
  {
   "cell_type": "code",
   "execution_count": 3,
   "metadata": {},
   "outputs": [
    {
     "data": {
      "text/plain": [
       "Index(['id', 'amount_tsh', 'date_recorded', 'funder', 'gps_height',\n",
       "       'installer', 'longitude', 'latitude', 'wpt_name', 'num_private',\n",
       "       'basin', 'subvillage', 'region', 'region_code', 'district_code', 'lga',\n",
       "       'ward', 'population', 'public_meeting', 'recorded_by',\n",
       "       'scheme_management', 'scheme_name', 'permit', 'construction_year',\n",
       "       'extraction_type', 'extraction_type_group', 'extraction_type_class',\n",
       "       'management', 'management_group', 'payment', 'payment_type',\n",
       "       'water_quality', 'quality_group', 'quantity', 'quantity_group',\n",
       "       'source', 'source_type', 'source_class', 'waterpoint_type',\n",
       "       'waterpoint_type_group'],\n",
       "      dtype='object')"
      ]
     },
     "execution_count": 3,
     "metadata": {},
     "output_type": "execute_result"
    }
   ],
   "source": [
    "# train.head(10)\n",
    "train.columns"
   ]
  },
  {
   "cell_type": "markdown",
   "metadata": {},
   "source": [
    "### plot bar chart for label set"
   ]
  },
  {
   "cell_type": "code",
   "execution_count": 4,
   "metadata": {},
   "outputs": [
    {
     "data": {
      "image/png": "[encoded data removed]",
      "text/plain": [
       "<Figure size 720x360 with 1 Axes>"
      ]
     },
     "metadata": {
      "needs_background": "light"
     },
     "output_type": "display_data"
    },
    {
     "name": "stdout",
     "output_type": "stream",
     "text": [
      "functional: 0.543080808080808\n",
      "non functional: 0.3842424242424242\n",
      "functional needs repair: 0.07267676767676767\n"
     ]
    }
   ],
   "source": [
    "status_group = train_label['status_group'].value_counts().to_dict()\n",
    "\n",
    "type_ = list(status_group.keys())\n",
    "values = list(status_group.values())\n",
    "  \n",
    "fig = plt.figure(figsize = (10, 5))\n",
    " \n",
    "# creating the bar plot\n",
    "plt.bar(type_, values,\n",
    "        width = 0.4)\n",
    " \n",
    "plt.xlabel(\"status_group\")\n",
    "plt.ylabel(\"amount\")\n",
    "plt.show()\n",
    "\n",
    "list_value = list(status_group.values())\n",
    "list_value = [float(i)/sum(list_value) for i in list_value]\n",
    "list_key = list(status_group.keys())\n",
    "for i in range(len(list_value)):\n",
    "    print(str(list_key[i])+\": \"+str(list_value[i]))"
   ]
  },
  {
   "cell_type": "markdown",
   "metadata": {},
   "source": [
    "###### therefore dataset is imbalanced and we need to hadle this"
   ]
  },
  {
   "cell_type": "markdown",
   "metadata": {},
   "source": [
    "### find duplicate rows\n"
   ]
  },
  {
   "cell_type": "code",
   "execution_count": 5,
   "metadata": {
    "scrolled": true
   },
   "outputs": [],
   "source": [
    "col_except_id = list(train.columns)[1:]"
   ]
  },
  {
   "cell_type": "code",
   "execution_count": 6,
   "metadata": {},
   "outputs": [
    {
     "name": "stdout",
     "output_type": "stream",
     "text": [
      "Number of duplicated rows in train set: 37\n"
     ]
    }
   ],
   "source": [
    "print(\"Number of duplicated rows in train set: \" + str(train.duplicated(subset=col_except_id).sum()))"
   ]
  },
  {
   "cell_type": "code",
   "execution_count": 7,
   "metadata": {},
   "outputs": [
    {
     "name": "stdout",
     "output_type": "stream",
     "text": [
      "[7709, 8731, 11260, 13823, 17133, 22080, 22140, 25300, 25928, 28518, 29044, 31558, 34310, 34465, 35920, 36069, 37202, 37439, 37925, 38165, 39187, 40287, 40696, 42650, 44093, 46582, 46845, 46923, 49865, 53060, 53441, 53944, 56268, 56599, 57230, 58463, 58859]\n"
     ]
    }
   ],
   "source": [
    "duplicate_indexes = train.loc[train.duplicated(subset=col_except_id), :]\n",
    "duplicate_indexes = list(duplicate_indexes.index)\n",
    "print(duplicate_indexes)"
   ]
  },
  {
   "cell_type": "markdown",
   "metadata": {},
   "source": [
    "### removing identical rows"
   ]
  },
  {
   "cell_type": "code",
   "execution_count": 8,
   "metadata": {},
   "outputs": [
    {
     "name": "stdout",
     "output_type": "stream",
     "text": [
      "Number of rows in train set: 59400\n",
      "Number of rows in test set: 14850\n",
      "Number of rows in train labels: 59400\n"
     ]
    }
   ],
   "source": [
    "print(\"Number of rows in train set: \"+ str(len(train.index)))\n",
    "print(\"Number of rows in test set: \"+ str(len(test.index)))\n",
    "print(\"Number of rows in train labels: \"+ str(len(train_label.index)))"
   ]
  },
  {
   "cell_type": "code",
   "execution_count": 9,
   "metadata": {},
   "outputs": [],
   "source": [
    "train = train.drop_duplicates(subset=col_except_id)\n",
    "train_label = train_label.drop(train_label.index[duplicate_indexes])"
   ]
  },
  {
   "cell_type": "code",
   "execution_count": 10,
   "metadata": {},
   "outputs": [
    {
     "name": "stdout",
     "output_type": "stream",
     "text": [
      "Number of rows in train set after removing duplicates: 59363\n",
      "Number of rows in train label set after removing duplicates: 59363\n"
     ]
    }
   ],
   "source": [
    "print(\"Number of rows in train set after removing duplicates: \"+ str(len(train.index)))\n",
    "print(\"Number of rows in train label set after removing duplicates: \"+ str(len(train_label.index)))"
   ]
  },
  {
   "cell_type": "markdown",
   "metadata": {},
   "source": [
    "### clarify whether identical rows are removed or not"
   ]
  },
  {
   "cell_type": "code",
   "execution_count": 11,
   "metadata": {},
   "outputs": [
    {
     "name": "stdout",
     "output_type": "stream",
     "text": [
      "Number of duplicated rows in train set: 0\n"
     ]
    }
   ],
   "source": [
    "print(\"Number of duplicated rows in train set: \" + str(train.duplicated(subset=col_except_id).sum()))"
   ]
  },
  {
   "cell_type": "markdown",
   "metadata": {},
   "source": [
    "### Find columns which contain NaN"
   ]
  },
  {
   "cell_type": "code",
   "execution_count": 12,
   "metadata": {},
   "outputs": [
    {
     "name": "stdout",
     "output_type": "stream",
     "text": [
      "columns which contain NaN in train set: ['funder', 'installer', 'subvillage', 'public_meeting', 'scheme_management', 'scheme_name', 'permit']\n",
      "columns which contain NaN in test set: ['funder', 'installer', 'subvillage', 'public_meeting', 'scheme_management', 'scheme_name', 'permit']\n"
     ]
    }
   ],
   "source": [
    "train_col_with_NaN = train.columns[train.isna().any()].tolist()\n",
    "test_col_with_NaN = test.columns[test.isna().any()].tolist()\n",
    "\n",
    "print(\"columns which contain NaN in train set: \" + str(train_col_with_NaN))\n",
    "print(\"columns which contain NaN in test set: \" + str(test_col_with_NaN))"
   ]
  },
  {
   "cell_type": "markdown",
   "metadata": {},
   "source": [
    "### remove NaN values from identified columns using mode"
   ]
  },
  {
   "cell_type": "code",
   "execution_count": 13,
   "metadata": {},
   "outputs": [],
   "source": [
    "for col in train_col_with_NaN:\n",
    "    train[col].fillna(train[col].mode()[0], inplace = True)\n",
    "    test[col].fillna(test[col].mode()[0], inplace=True)"
   ]
  },
  {
   "cell_type": "markdown",
   "metadata": {},
   "source": [
    "### clarify whether NaN values are replced"
   ]
  },
  {
   "cell_type": "code",
   "execution_count": 14,
   "metadata": {},
   "outputs": [
    {
     "data": {
      "text/plain": [
       "[]"
      ]
     },
     "execution_count": 14,
     "metadata": {},
     "output_type": "execute_result"
    }
   ],
   "source": [
    "train.columns[train.isna().any()].tolist()\n",
    "test.columns[test.isna().any()].tolist()"
   ]
  },
  {
   "cell_type": "code",
   "execution_count": 15,
   "metadata": {},
   "outputs": [
    {
     "data": {
      "text/html": [
       "<div>\n",
       "<style scoped>\n",
       "    .dataframe tbody tr th:only-of-type {\n",
       "        vertical-align: middle;\n",
       "    }\n",
       "\n",
       "    .dataframe tbody tr th {\n",
       "        vertical-align: top;\n",
       "    }\n",
       "\n",
       "    .dataframe thead th {\n",
       "        text-align: right;\n",
       "    }\n",
       "</style>\n",
       "<table border=\"1\" class=\"dataframe\">\n",
       "  <thead>\n",
       "    <tr style=\"text-align: right;\">\n",
       "      <th></th>\n",
       "      <th>id</th>\n",
       "      <th>amount_tsh</th>\n",
       "      <th>date_recorded</th>\n",
       "      <th>funder</th>\n",
       "      <th>gps_height</th>\n",
       "      <th>installer</th>\n",
       "      <th>longitude</th>\n",
       "      <th>latitude</th>\n",
       "      <th>wpt_name</th>\n",
       "      <th>num_private</th>\n",
       "      <th>...</th>\n",
       "      <th>payment_type</th>\n",
       "      <th>water_quality</th>\n",
       "      <th>quality_group</th>\n",
       "      <th>quantity</th>\n",
       "      <th>quantity_group</th>\n",
       "      <th>source</th>\n",
       "      <th>source_type</th>\n",
       "      <th>source_class</th>\n",
       "      <th>waterpoint_type</th>\n",
       "      <th>waterpoint_type_group</th>\n",
       "    </tr>\n",
       "  </thead>\n",
       "  <tbody>\n",
       "    <tr>\n",
       "      <td>0</td>\n",
       "      <td>69572</td>\n",
       "      <td>6000.0</td>\n",
       "      <td>2011-03-14</td>\n",
       "      <td>Roman</td>\n",
       "      <td>1390</td>\n",
       "      <td>Roman</td>\n",
       "      <td>34.938093</td>\n",
       "      <td>-9.856322</td>\n",
       "      <td>none</td>\n",
       "      <td>0</td>\n",
       "      <td>...</td>\n",
       "      <td>annually</td>\n",
       "      <td>soft</td>\n",
       "      <td>good</td>\n",
       "      <td>enough</td>\n",
       "      <td>enough</td>\n",
       "      <td>spring</td>\n",
       "      <td>spring</td>\n",
       "      <td>groundwater</td>\n",
       "      <td>communal standpipe</td>\n",
       "      <td>communal standpipe</td>\n",
       "    </tr>\n",
       "    <tr>\n",
       "      <td>1</td>\n",
       "      <td>8776</td>\n",
       "      <td>0.0</td>\n",
       "      <td>2013-03-06</td>\n",
       "      <td>Grumeti</td>\n",
       "      <td>1399</td>\n",
       "      <td>GRUMETI</td>\n",
       "      <td>34.698766</td>\n",
       "      <td>-2.147466</td>\n",
       "      <td>Zahanati</td>\n",
       "      <td>0</td>\n",
       "      <td>...</td>\n",
       "      <td>never pay</td>\n",
       "      <td>soft</td>\n",
       "      <td>good</td>\n",
       "      <td>insufficient</td>\n",
       "      <td>insufficient</td>\n",
       "      <td>rainwater harvesting</td>\n",
       "      <td>rainwater harvesting</td>\n",
       "      <td>surface</td>\n",
       "      <td>communal standpipe</td>\n",
       "      <td>communal standpipe</td>\n",
       "    </tr>\n",
       "    <tr>\n",
       "      <td>2</td>\n",
       "      <td>34310</td>\n",
       "      <td>25.0</td>\n",
       "      <td>2013-02-25</td>\n",
       "      <td>Lottery Club</td>\n",
       "      <td>686</td>\n",
       "      <td>World vision</td>\n",
       "      <td>37.460664</td>\n",
       "      <td>-3.821329</td>\n",
       "      <td>Kwa Mahundi</td>\n",
       "      <td>0</td>\n",
       "      <td>...</td>\n",
       "      <td>per bucket</td>\n",
       "      <td>soft</td>\n",
       "      <td>good</td>\n",
       "      <td>enough</td>\n",
       "      <td>enough</td>\n",
       "      <td>dam</td>\n",
       "      <td>dam</td>\n",
       "      <td>surface</td>\n",
       "      <td>communal standpipe multiple</td>\n",
       "      <td>communal standpipe</td>\n",
       "    </tr>\n",
       "    <tr>\n",
       "      <td>3</td>\n",
       "      <td>67743</td>\n",
       "      <td>0.0</td>\n",
       "      <td>2013-01-28</td>\n",
       "      <td>Unicef</td>\n",
       "      <td>263</td>\n",
       "      <td>UNICEF</td>\n",
       "      <td>38.486161</td>\n",
       "      <td>-11.155298</td>\n",
       "      <td>Zahanati Ya Nanyumbu</td>\n",
       "      <td>0</td>\n",
       "      <td>...</td>\n",
       "      <td>never pay</td>\n",
       "      <td>soft</td>\n",
       "      <td>good</td>\n",
       "      <td>dry</td>\n",
       "      <td>dry</td>\n",
       "      <td>machine dbh</td>\n",
       "      <td>borehole</td>\n",
       "      <td>groundwater</td>\n",
       "      <td>communal standpipe multiple</td>\n",
       "      <td>communal standpipe</td>\n",
       "    </tr>\n",
       "    <tr>\n",
       "      <td>4</td>\n",
       "      <td>19728</td>\n",
       "      <td>0.0</td>\n",
       "      <td>2011-07-13</td>\n",
       "      <td>Action In A</td>\n",
       "      <td>0</td>\n",
       "      <td>Artisan</td>\n",
       "      <td>31.130847</td>\n",
       "      <td>-1.825359</td>\n",
       "      <td>Shuleni</td>\n",
       "      <td>0</td>\n",
       "      <td>...</td>\n",
       "      <td>never pay</td>\n",
       "      <td>soft</td>\n",
       "      <td>good</td>\n",
       "      <td>seasonal</td>\n",
       "      <td>seasonal</td>\n",
       "      <td>rainwater harvesting</td>\n",
       "      <td>rainwater harvesting</td>\n",
       "      <td>surface</td>\n",
       "      <td>communal standpipe</td>\n",
       "      <td>communal standpipe</td>\n",
       "    </tr>\n",
       "  </tbody>\n",
       "</table>\n",
       "<p>5 rows × 40 columns</p>\n",
       "</div>"
      ],
      "text/plain": [
       "      id  amount_tsh date_recorded        funder  gps_height     installer  \\\n",
       "0  69572      6000.0    2011-03-14         Roman        1390         Roman   \n",
       "1   8776         0.0    2013-03-06       Grumeti        1399       GRUMETI   \n",
       "2  34310        25.0    2013-02-25  Lottery Club         686  World vision   \n",
       "3  67743         0.0    2013-01-28        Unicef         263        UNICEF   \n",
       "4  19728         0.0    2011-07-13   Action In A           0       Artisan   \n",
       "\n",
       "   longitude   latitude              wpt_name  num_private  ... payment_type  \\\n",
       "0  34.938093  -9.856322                  none            0  ...     annually   \n",
       "1  34.698766  -2.147466              Zahanati            0  ...    never pay   \n",
       "2  37.460664  -3.821329           Kwa Mahundi            0  ...   per bucket   \n",
       "3  38.486161 -11.155298  Zahanati Ya Nanyumbu            0  ...    never pay   \n",
       "4  31.130847  -1.825359               Shuleni            0  ...    never pay   \n",
       "\n",
       "  water_quality quality_group      quantity  quantity_group  \\\n",
       "0          soft          good        enough          enough   \n",
       "1          soft          good  insufficient    insufficient   \n",
       "2          soft          good        enough          enough   \n",
       "3          soft          good           dry             dry   \n",
       "4          soft          good      seasonal        seasonal   \n",
       "\n",
       "                 source           source_type  source_class  \\\n",
       "0                spring                spring   groundwater   \n",
       "1  rainwater harvesting  rainwater harvesting       surface   \n",
       "2                   dam                   dam       surface   \n",
       "3           machine dbh              borehole   groundwater   \n",
       "4  rainwater harvesting  rainwater harvesting       surface   \n",
       "\n",
       "               waterpoint_type waterpoint_type_group  \n",
       "0           communal standpipe    communal standpipe  \n",
       "1           communal standpipe    communal standpipe  \n",
       "2  communal standpipe multiple    communal standpipe  \n",
       "3  communal standpipe multiple    communal standpipe  \n",
       "4           communal standpipe    communal standpipe  \n",
       "\n",
       "[5 rows x 40 columns]"
      ]
     },
     "execution_count": 15,
     "metadata": {},
     "output_type": "execute_result"
    }
   ],
   "source": [
    "train.head()"
   ]
  },
  {
   "cell_type": "markdown",
   "metadata": {},
   "source": [
    "### Change values less than 25 in funder and installer column to 'others'"
   ]
  },
  {
   "cell_type": "code",
   "execution_count": 16,
   "metadata": {},
   "outputs": [
    {
     "data": {
      "text/plain": [
       "Government Of Tanzania    12711\n",
       "Danida                     3114\n",
       "Hesawa                     2198\n",
       "Rwssp                      1372\n",
       "World Bank                 1349\n",
       "                          ...  \n",
       "Dwarf                         1\n",
       "Isnashia And                  1\n",
       "Kwa Mzee Waziri               1\n",
       "Lotary International          1\n",
       "Samlo                         1\n",
       "Name: funder, Length: 1897, dtype: int64"
      ]
     },
     "execution_count": 16,
     "metadata": {},
     "output_type": "execute_result"
    }
   ],
   "source": [
    "train.loc[:, 'funder'].value_counts(dropna=False)"
   ]
  },
  {
   "cell_type": "code",
   "execution_count": 17,
   "metadata": {},
   "outputs": [
    {
     "data": {
      "text/plain": [
       "DWE                     21040\n",
       "Government               1818\n",
       "RWE                      1205\n",
       "Commu                    1060\n",
       "DANIDA                   1050\n",
       "                        ...  \n",
       "Luleka                      1\n",
       "KASHERE                     1\n",
       "Kwamdulu estate             1\n",
       "PRINCE MEDIUM SCHOOL        1\n",
       "p                           1\n",
       "Name: installer, Length: 2145, dtype: int64"
      ]
     },
     "execution_count": 17,
     "metadata": {},
     "output_type": "execute_result"
    }
   ],
   "source": [
    "train.loc[:, 'installer'].value_counts(dropna=False)"
   ]
  },
  {
   "cell_type": "code",
   "execution_count": 18,
   "metadata": {},
   "outputs": [],
   "source": [
    "counts_fun_train = train['funder'].value_counts().to_dict()\n",
    "counts_ins_train = train['installer'].value_counts().to_dict()\n",
    "\n",
    "for key in counts_fun_train:\n",
    "    if (counts_fun_train[key]<=25):\n",
    "        train[\"funder\"].replace({key: \"others\"}, inplace=True)\n",
    "        \n",
    "\n",
    "        \n",
    "for key in counts_ins_train:\n",
    "    if (counts_ins_train[key]<=25):\n",
    "        train['installer'].replace({key: \"others\"}, inplace=True)\n",
    "        \n",
    "\n",
    "counts_fun_test = test['funder'].value_counts().to_dict()\n",
    "counts_ins_test = test['installer'].value_counts().to_dict()\n",
    "\n",
    "for key in counts_fun_test:\n",
    "    if (counts_fun_test[key]<=25):\n",
    "        train[\"funder\"].replace({key: \"others\"}, inplace=True)\n",
    "        \n",
    "\n",
    "        \n",
    "for key in counts_ins_test:\n",
    "    if (counts_ins_test[key]<=25):\n",
    "        train['installer'].replace({key: \"others\"}, inplace=True)"
   ]
  },
  {
   "cell_type": "markdown",
   "metadata": {},
   "source": [
    "### Exatract month and year from \"date_recorded\" column and create new columns called month and year"
   ]
  },
  {
   "cell_type": "code",
   "execution_count": 19,
   "metadata": {},
   "outputs": [],
   "source": [
    "train['month']=pd.to_datetime(train.date_recorded).dt.month\n",
    "test['month']=pd.to_datetime(test.date_recorded).dt.month\n",
    "\n",
    "train['year']=pd.to_datetime(train.date_recorded).dt.year\n",
    "test['year']=pd.to_datetime(test.date_recorded).dt.year\n",
    "\n",
    "train = train.drop(['date_recorded'], axis = 1)\n",
    "test = test.drop(['date_recorded'], axis = 1)\n",
    "col_except_id.remove('date_recorded')\n",
    "\n"
   ]
  },
  {
   "cell_type": "code",
   "execution_count": 20,
   "metadata": {},
   "outputs": [
    {
     "data": {
      "text/html": [
       "<div>\n",
       "<style scoped>\n",
       "    .dataframe tbody tr th:only-of-type {\n",
       "        vertical-align: middle;\n",
       "    }\n",
       "\n",
       "    .dataframe tbody tr th {\n",
       "        vertical-align: top;\n",
       "    }\n",
       "\n",
       "    .dataframe thead th {\n",
       "        text-align: right;\n",
       "    }\n",
       "</style>\n",
       "<table border=\"1\" class=\"dataframe\">\n",
       "  <thead>\n",
       "    <tr style=\"text-align: right;\">\n",
       "      <th></th>\n",
       "      <th>id</th>\n",
       "      <th>amount_tsh</th>\n",
       "      <th>funder</th>\n",
       "      <th>gps_height</th>\n",
       "      <th>installer</th>\n",
       "      <th>longitude</th>\n",
       "      <th>latitude</th>\n",
       "      <th>wpt_name</th>\n",
       "      <th>num_private</th>\n",
       "      <th>basin</th>\n",
       "      <th>...</th>\n",
       "      <th>quality_group</th>\n",
       "      <th>quantity</th>\n",
       "      <th>quantity_group</th>\n",
       "      <th>source</th>\n",
       "      <th>source_type</th>\n",
       "      <th>source_class</th>\n",
       "      <th>waterpoint_type</th>\n",
       "      <th>waterpoint_type_group</th>\n",
       "      <th>month</th>\n",
       "      <th>year</th>\n",
       "    </tr>\n",
       "  </thead>\n",
       "  <tbody>\n",
       "    <tr>\n",
       "      <td>0</td>\n",
       "      <td>69572</td>\n",
       "      <td>6000.0</td>\n",
       "      <td>Roman</td>\n",
       "      <td>1390</td>\n",
       "      <td>others</td>\n",
       "      <td>34.938093</td>\n",
       "      <td>-9.856322</td>\n",
       "      <td>none</td>\n",
       "      <td>0</td>\n",
       "      <td>Lake Nyasa</td>\n",
       "      <td>...</td>\n",
       "      <td>good</td>\n",
       "      <td>enough</td>\n",
       "      <td>enough</td>\n",
       "      <td>spring</td>\n",
       "      <td>spring</td>\n",
       "      <td>groundwater</td>\n",
       "      <td>communal standpipe</td>\n",
       "      <td>communal standpipe</td>\n",
       "      <td>3</td>\n",
       "      <td>2011</td>\n",
       "    </tr>\n",
       "    <tr>\n",
       "      <td>1</td>\n",
       "      <td>8776</td>\n",
       "      <td>0.0</td>\n",
       "      <td>others</td>\n",
       "      <td>1399</td>\n",
       "      <td>others</td>\n",
       "      <td>34.698766</td>\n",
       "      <td>-2.147466</td>\n",
       "      <td>Zahanati</td>\n",
       "      <td>0</td>\n",
       "      <td>Lake Victoria</td>\n",
       "      <td>...</td>\n",
       "      <td>good</td>\n",
       "      <td>insufficient</td>\n",
       "      <td>insufficient</td>\n",
       "      <td>rainwater harvesting</td>\n",
       "      <td>rainwater harvesting</td>\n",
       "      <td>surface</td>\n",
       "      <td>communal standpipe</td>\n",
       "      <td>communal standpipe</td>\n",
       "      <td>3</td>\n",
       "      <td>2013</td>\n",
       "    </tr>\n",
       "    <tr>\n",
       "      <td>2</td>\n",
       "      <td>34310</td>\n",
       "      <td>25.0</td>\n",
       "      <td>others</td>\n",
       "      <td>686</td>\n",
       "      <td>World vision</td>\n",
       "      <td>37.460664</td>\n",
       "      <td>-3.821329</td>\n",
       "      <td>Kwa Mahundi</td>\n",
       "      <td>0</td>\n",
       "      <td>Pangani</td>\n",
       "      <td>...</td>\n",
       "      <td>good</td>\n",
       "      <td>enough</td>\n",
       "      <td>enough</td>\n",
       "      <td>dam</td>\n",
       "      <td>dam</td>\n",
       "      <td>surface</td>\n",
       "      <td>communal standpipe multiple</td>\n",
       "      <td>communal standpipe</td>\n",
       "      <td>2</td>\n",
       "      <td>2013</td>\n",
       "    </tr>\n",
       "    <tr>\n",
       "      <td>3</td>\n",
       "      <td>67743</td>\n",
       "      <td>0.0</td>\n",
       "      <td>Unicef</td>\n",
       "      <td>263</td>\n",
       "      <td>UNICEF</td>\n",
       "      <td>38.486161</td>\n",
       "      <td>-11.155298</td>\n",
       "      <td>Zahanati Ya Nanyumbu</td>\n",
       "      <td>0</td>\n",
       "      <td>Ruvuma / Southern Coast</td>\n",
       "      <td>...</td>\n",
       "      <td>good</td>\n",
       "      <td>dry</td>\n",
       "      <td>dry</td>\n",
       "      <td>machine dbh</td>\n",
       "      <td>borehole</td>\n",
       "      <td>groundwater</td>\n",
       "      <td>communal standpipe multiple</td>\n",
       "      <td>communal standpipe</td>\n",
       "      <td>1</td>\n",
       "      <td>2013</td>\n",
       "    </tr>\n",
       "    <tr>\n",
       "      <td>4</td>\n",
       "      <td>19728</td>\n",
       "      <td>0.0</td>\n",
       "      <td>others</td>\n",
       "      <td>0</td>\n",
       "      <td>Artisan</td>\n",
       "      <td>31.130847</td>\n",
       "      <td>-1.825359</td>\n",
       "      <td>Shuleni</td>\n",
       "      <td>0</td>\n",
       "      <td>Lake Victoria</td>\n",
       "      <td>...</td>\n",
       "      <td>good</td>\n",
       "      <td>seasonal</td>\n",
       "      <td>seasonal</td>\n",
       "      <td>rainwater harvesting</td>\n",
       "      <td>rainwater harvesting</td>\n",
       "      <td>surface</td>\n",
       "      <td>communal standpipe</td>\n",
       "      <td>communal standpipe</td>\n",
       "      <td>7</td>\n",
       "      <td>2011</td>\n",
       "    </tr>\n",
       "  </tbody>\n",
       "</table>\n",
       "<p>5 rows × 41 columns</p>\n",
       "</div>"
      ],
      "text/plain": [
       "      id  amount_tsh  funder  gps_height     installer  longitude   latitude  \\\n",
       "0  69572      6000.0   Roman        1390        others  34.938093  -9.856322   \n",
       "1   8776         0.0  others        1399        others  34.698766  -2.147466   \n",
       "2  34310        25.0  others         686  World vision  37.460664  -3.821329   \n",
       "3  67743         0.0  Unicef         263        UNICEF  38.486161 -11.155298   \n",
       "4  19728         0.0  others           0       Artisan  31.130847  -1.825359   \n",
       "\n",
       "               wpt_name  num_private                    basin  ...  \\\n",
       "0                  none            0               Lake Nyasa  ...   \n",
       "1              Zahanati            0            Lake Victoria  ...   \n",
       "2           Kwa Mahundi            0                  Pangani  ...   \n",
       "3  Zahanati Ya Nanyumbu            0  Ruvuma / Southern Coast  ...   \n",
       "4               Shuleni            0            Lake Victoria  ...   \n",
       "\n",
       "  quality_group      quantity  quantity_group                source  \\\n",
       "0          good        enough          enough                spring   \n",
       "1          good  insufficient    insufficient  rainwater harvesting   \n",
       "2          good        enough          enough                   dam   \n",
       "3          good           dry             dry           machine dbh   \n",
       "4          good      seasonal        seasonal  rainwater harvesting   \n",
       "\n",
       "            source_type source_class              waterpoint_type  \\\n",
       "0                spring  groundwater           communal standpipe   \n",
       "1  rainwater harvesting      surface           communal standpipe   \n",
       "2                   dam      surface  communal standpipe multiple   \n",
       "3              borehole  groundwater  communal standpipe multiple   \n",
       "4  rainwater harvesting      surface           communal standpipe   \n",
       "\n",
       "   waterpoint_type_group month  year  \n",
       "0     communal standpipe     3  2011  \n",
       "1     communal standpipe     3  2013  \n",
       "2     communal standpipe     2  2013  \n",
       "3     communal standpipe     1  2013  \n",
       "4     communal standpipe     7  2011  \n",
       "\n",
       "[5 rows x 41 columns]"
      ]
     },
     "execution_count": 20,
     "metadata": {},
     "output_type": "execute_result"
    }
   ],
   "source": [
    "train.head()"
   ]
  },
  {
   "cell_type": "code",
   "execution_count": 21,
   "metadata": {},
   "outputs": [
    {
     "data": {
      "text/html": [
       "<div>\n",
       "<style scoped>\n",
       "    .dataframe tbody tr th:only-of-type {\n",
       "        vertical-align: middle;\n",
       "    }\n",
       "\n",
       "    .dataframe tbody tr th {\n",
       "        vertical-align: top;\n",
       "    }\n",
       "\n",
       "    .dataframe thead th {\n",
       "        text-align: right;\n",
       "    }\n",
       "</style>\n",
       "<table border=\"1\" class=\"dataframe\">\n",
       "  <thead>\n",
       "    <tr style=\"text-align: right;\">\n",
       "      <th></th>\n",
       "      <th>id</th>\n",
       "      <th>amount_tsh</th>\n",
       "      <th>funder</th>\n",
       "      <th>gps_height</th>\n",
       "      <th>installer</th>\n",
       "      <th>longitude</th>\n",
       "      <th>latitude</th>\n",
       "      <th>wpt_name</th>\n",
       "      <th>num_private</th>\n",
       "      <th>basin</th>\n",
       "      <th>...</th>\n",
       "      <th>quality_group</th>\n",
       "      <th>quantity</th>\n",
       "      <th>quantity_group</th>\n",
       "      <th>source</th>\n",
       "      <th>source_type</th>\n",
       "      <th>source_class</th>\n",
       "      <th>waterpoint_type</th>\n",
       "      <th>waterpoint_type_group</th>\n",
       "      <th>month</th>\n",
       "      <th>year</th>\n",
       "    </tr>\n",
       "  </thead>\n",
       "  <tbody>\n",
       "    <tr>\n",
       "      <td>0</td>\n",
       "      <td>50785</td>\n",
       "      <td>0.0</td>\n",
       "      <td>Dmdd</td>\n",
       "      <td>1996</td>\n",
       "      <td>DMDD</td>\n",
       "      <td>35.290799</td>\n",
       "      <td>-4.059696</td>\n",
       "      <td>Dinamu Secondary School</td>\n",
       "      <td>0</td>\n",
       "      <td>Internal</td>\n",
       "      <td>...</td>\n",
       "      <td>good</td>\n",
       "      <td>seasonal</td>\n",
       "      <td>seasonal</td>\n",
       "      <td>rainwater harvesting</td>\n",
       "      <td>rainwater harvesting</td>\n",
       "      <td>surface</td>\n",
       "      <td>other</td>\n",
       "      <td>other</td>\n",
       "      <td>2</td>\n",
       "      <td>2013</td>\n",
       "    </tr>\n",
       "    <tr>\n",
       "      <td>1</td>\n",
       "      <td>51630</td>\n",
       "      <td>0.0</td>\n",
       "      <td>Government Of Tanzania</td>\n",
       "      <td>1569</td>\n",
       "      <td>DWE</td>\n",
       "      <td>36.656709</td>\n",
       "      <td>-3.309214</td>\n",
       "      <td>Kimnyak</td>\n",
       "      <td>0</td>\n",
       "      <td>Pangani</td>\n",
       "      <td>...</td>\n",
       "      <td>good</td>\n",
       "      <td>insufficient</td>\n",
       "      <td>insufficient</td>\n",
       "      <td>spring</td>\n",
       "      <td>spring</td>\n",
       "      <td>groundwater</td>\n",
       "      <td>communal standpipe</td>\n",
       "      <td>communal standpipe</td>\n",
       "      <td>2</td>\n",
       "      <td>2013</td>\n",
       "    </tr>\n",
       "    <tr>\n",
       "      <td>2</td>\n",
       "      <td>17168</td>\n",
       "      <td>0.0</td>\n",
       "      <td>Government Of Tanzania</td>\n",
       "      <td>1567</td>\n",
       "      <td>DWE</td>\n",
       "      <td>34.767863</td>\n",
       "      <td>-5.004344</td>\n",
       "      <td>Puma Secondary</td>\n",
       "      <td>0</td>\n",
       "      <td>Internal</td>\n",
       "      <td>...</td>\n",
       "      <td>good</td>\n",
       "      <td>insufficient</td>\n",
       "      <td>insufficient</td>\n",
       "      <td>rainwater harvesting</td>\n",
       "      <td>rainwater harvesting</td>\n",
       "      <td>surface</td>\n",
       "      <td>other</td>\n",
       "      <td>other</td>\n",
       "      <td>2</td>\n",
       "      <td>2013</td>\n",
       "    </tr>\n",
       "    <tr>\n",
       "      <td>3</td>\n",
       "      <td>45559</td>\n",
       "      <td>0.0</td>\n",
       "      <td>Finn Water</td>\n",
       "      <td>267</td>\n",
       "      <td>FINN WATER</td>\n",
       "      <td>38.058046</td>\n",
       "      <td>-9.418672</td>\n",
       "      <td>Kwa Mzee Pange</td>\n",
       "      <td>0</td>\n",
       "      <td>Ruvuma / Southern Coast</td>\n",
       "      <td>...</td>\n",
       "      <td>good</td>\n",
       "      <td>dry</td>\n",
       "      <td>dry</td>\n",
       "      <td>shallow well</td>\n",
       "      <td>shallow well</td>\n",
       "      <td>groundwater</td>\n",
       "      <td>other</td>\n",
       "      <td>other</td>\n",
       "      <td>1</td>\n",
       "      <td>2013</td>\n",
       "    </tr>\n",
       "    <tr>\n",
       "      <td>4</td>\n",
       "      <td>49871</td>\n",
       "      <td>500.0</td>\n",
       "      <td>Bruder</td>\n",
       "      <td>1260</td>\n",
       "      <td>BRUDER</td>\n",
       "      <td>35.006123</td>\n",
       "      <td>-10.950412</td>\n",
       "      <td>Kwa Mzee Turuka</td>\n",
       "      <td>0</td>\n",
       "      <td>Ruvuma / Southern Coast</td>\n",
       "      <td>...</td>\n",
       "      <td>good</td>\n",
       "      <td>enough</td>\n",
       "      <td>enough</td>\n",
       "      <td>spring</td>\n",
       "      <td>spring</td>\n",
       "      <td>groundwater</td>\n",
       "      <td>communal standpipe</td>\n",
       "      <td>communal standpipe</td>\n",
       "      <td>3</td>\n",
       "      <td>2013</td>\n",
       "    </tr>\n",
       "  </tbody>\n",
       "</table>\n",
       "<p>5 rows × 41 columns</p>\n",
       "</div>"
      ],
      "text/plain": [
       "      id  amount_tsh                  funder  gps_height   installer  \\\n",
       "0  50785         0.0                    Dmdd        1996        DMDD   \n",
       "1  51630         0.0  Government Of Tanzania        1569         DWE   \n",
       "2  17168         0.0  Government Of Tanzania        1567         DWE   \n",
       "3  45559         0.0              Finn Water         267  FINN WATER   \n",
       "4  49871       500.0                  Bruder        1260      BRUDER   \n",
       "\n",
       "   longitude   latitude                 wpt_name  num_private  \\\n",
       "0  35.290799  -4.059696  Dinamu Secondary School            0   \n",
       "1  36.656709  -3.309214                  Kimnyak            0   \n",
       "2  34.767863  -5.004344           Puma Secondary            0   \n",
       "3  38.058046  -9.418672           Kwa Mzee Pange            0   \n",
       "4  35.006123 -10.950412          Kwa Mzee Turuka            0   \n",
       "\n",
       "                     basin  ... quality_group      quantity  quantity_group  \\\n",
       "0                 Internal  ...          good      seasonal        seasonal   \n",
       "1                  Pangani  ...          good  insufficient    insufficient   \n",
       "2                 Internal  ...          good  insufficient    insufficient   \n",
       "3  Ruvuma / Southern Coast  ...          good           dry             dry   \n",
       "4  Ruvuma / Southern Coast  ...          good        enough          enough   \n",
       "\n",
       "                 source           source_type source_class  \\\n",
       "0  rainwater harvesting  rainwater harvesting      surface   \n",
       "1                spring                spring  groundwater   \n",
       "2  rainwater harvesting  rainwater harvesting      surface   \n",
       "3          shallow well          shallow well  groundwater   \n",
       "4                spring                spring  groundwater   \n",
       "\n",
       "      waterpoint_type  waterpoint_type_group month  year  \n",
       "0               other                  other     2  2013  \n",
       "1  communal standpipe     communal standpipe     2  2013  \n",
       "2               other                  other     2  2013  \n",
       "3               other                  other     1  2013  \n",
       "4  communal standpipe     communal standpipe     3  2013  \n",
       "\n",
       "[5 rows x 41 columns]"
      ]
     },
     "execution_count": 21,
     "metadata": {},
     "output_type": "execute_result"
    }
   ],
   "source": [
    "test.head()"
   ]
  },
  {
   "cell_type": "markdown",
   "metadata": {},
   "source": [
    "### perform log normalization for population column"
   ]
  },
  {
   "cell_type": "code",
   "execution_count": 22,
   "metadata": {},
   "outputs": [],
   "source": [
    "train.population = train.population.apply(lambda x: np.log10(x+1))\n",
    "test.population = test.population.apply(lambda x: np.log10(x+1))"
   ]
  },
  {
   "cell_type": "markdown",
   "metadata": {},
   "source": [
    "### convert 0 value in installer column to \"others\""
   ]
  },
  {
   "cell_type": "code",
   "execution_count": 23,
   "metadata": {},
   "outputs": [
    {
     "name": "stdout",
     "output_type": "stream",
     "text": [
      "['0', 'ACRA', 'AMREF', 'Adra', 'Amref', 'Artisan', 'CEFA', 'CES', 'Centr', 'Central government', 'Central govt', 'Commu', 'Community', 'Consulting Engineer', 'DA', 'DANID', 'DANIDA', 'DDCA', 'DH', 'DMDD', 'DW', 'DWE', 'DWSP', 'Da', 'Distri', 'District Council', 'District council', 'Dmdd', 'FW', 'FinW', 'Fini Water', 'GOVER', 'Gove', 'Gover', 'Government', 'HE', 'HESAWA', 'Halmashauri ya wilaya sikonge', 'Handeni Trunk Main(', 'Hesawa', 'ISF', 'Idara ya maji', 'Ir', 'Is', 'JAICA', 'JICA', 'KKKT', 'KKKT _ Konde and DWE', 'Ki', 'Kiliwater', 'Kuwait', 'LGA', 'LWI', 'Lawatefuka water sup', 'MWE', 'Magadini-Makiwaru wa', 'Mission', 'NORAD', 'Norad', 'OXFAM', 'Private', 'RC', 'RC CHURCH', 'RWE', 'RWSSP', 'SEMA', 'SHIPO', 'Sengerema Water Department', 'TASAF', 'TCRS', 'TWE', 'TWESA', 'Tardo', 'UNICEF', 'VWC', 'Villagers', 'WEDECO', 'WU', 'WVT', 'Wizara ya maji', 'World', 'World Bank', 'World Vision', 'World vision', 'others', 'wananchi']\n"
     ]
    }
   ],
   "source": [
    "ins = train['installer'].unique()\n",
    "ins = list(ins)\n",
    "ins.sort()\n",
    "print(ins)\n"
   ]
  },
  {
   "cell_type": "code",
   "execution_count": 24,
   "metadata": {},
   "outputs": [],
   "source": [
    "train.installer.replace(to_replace=(None,'0'), value = \"others\", inplace = True)"
   ]
  },
  {
   "cell_type": "code",
   "execution_count": 25,
   "metadata": {},
   "outputs": [],
   "source": [
    "train['construction_year']=pd.to_numeric(train['construction_year'])\n",
    "test['construction_year']=pd.to_numeric(test['construction_year'])"
   ]
  },
  {
   "cell_type": "markdown",
   "metadata": {},
   "source": [
    "### convert 0 value in funder column to \"others\""
   ]
  },
  {
   "cell_type": "code",
   "execution_count": 26,
   "metadata": {},
   "outputs": [
    {
     "data": {
      "text/plain": [
       "['0',\n",
       " 'Adb',\n",
       " 'Adra',\n",
       " 'African',\n",
       " 'Aict',\n",
       " 'Amref',\n",
       " 'Anglican Church',\n",
       " 'Caritas',\n",
       " 'Ces (gmbh)',\n",
       " 'Ces(gmbh)',\n",
       " 'Co',\n",
       " 'Community',\n",
       " 'Concern',\n",
       " 'Concern World Wide',\n",
       " 'Danida',\n",
       " 'Ded',\n",
       " 'Dh',\n",
       " 'Dhv',\n",
       " 'District Council',\n",
       " 'Dmdd',\n",
       " 'Dwe',\n",
       " 'Dwsp',\n",
       " 'Fin Water',\n",
       " 'Fini Water',\n",
       " 'Finw',\n",
       " 'Fw',\n",
       " 'Germany Republi',\n",
       " 'Go',\n",
       " 'Government Of Tanzania',\n",
       " 'Halmashauri Ya Wilaya Sikonge',\n",
       " 'He',\n",
       " 'Hesawa',\n",
       " 'Hifab',\n",
       " 'Ir',\n",
       " 'Isf',\n",
       " 'Jaica',\n",
       " 'Jica',\n",
       " 'Ki',\n",
       " 'Kiliwater',\n",
       " 'Kkkt',\n",
       " 'Kkkt_makwale',\n",
       " 'Kuwait',\n",
       " 'Lawatefuka Water Supply',\n",
       " 'Lga',\n",
       " 'Lvia',\n",
       " 'Lwi',\n",
       " 'Magadini-makiwaru Water',\n",
       " 'Ministry Of Water',\n",
       " 'Mission',\n",
       " 'Mkinga Distric Coun',\n",
       " 'Nethalan',\n",
       " 'Netherlands',\n",
       " 'No',\n",
       " 'Norad',\n",
       " 'Oikos E.Afrika',\n",
       " 'Oxfam',\n",
       " 'Oxfarm',\n",
       " 'Plan Int',\n",
       " 'Private',\n",
       " 'Private Individual',\n",
       " 'Rc',\n",
       " 'Rc Church',\n",
       " 'Roman',\n",
       " 'Roman Catholic',\n",
       " 'Rudep',\n",
       " 'Rural Water Supply And Sanitat',\n",
       " 'Rwssp',\n",
       " 'Shipo',\n",
       " 'Swedish',\n",
       " 'Tanza',\n",
       " 'Tardo',\n",
       " 'Tasaf',\n",
       " 'Tcrs',\n",
       " 'Unhcr',\n",
       " 'Unice',\n",
       " 'Unicef',\n",
       " 'Villagers',\n",
       " 'W.B',\n",
       " 'Wananchi',\n",
       " 'Water',\n",
       " 'Wateraid',\n",
       " 'World Bank',\n",
       " 'World Vision',\n",
       " 'Wsdp',\n",
       " 'Wua',\n",
       " 'Wvt',\n",
       " 'others']"
      ]
     },
     "execution_count": 26,
     "metadata": {},
     "output_type": "execute_result"
    }
   ],
   "source": [
    "funder = train['funder'].unique()\n",
    "funder = list(funder)\n",
    "funder.sort()\n",
    "funder"
   ]
  },
  {
   "cell_type": "code",
   "execution_count": 27,
   "metadata": {},
   "outputs": [],
   "source": [
    "train.funder.replace(to_replace=(None, '0'), value = \"others\", inplace = True)"
   ]
  },
  {
   "cell_type": "code",
   "execution_count": 28,
   "metadata": {},
   "outputs": [
    {
     "data": {
      "text/plain": [
       "VWC                 40656\n",
       "WUG                  5186\n",
       "Water authority      3153\n",
       "WUA                  2883\n",
       "Water Board          2748\n",
       "Parastatal           1677\n",
       "Private operator     1063\n",
       "Company              1061\n",
       "Other                 766\n",
       "SWC                    97\n",
       "Trust                  72\n",
       "None                    1\n",
       "Name: scheme_management, dtype: int64"
      ]
     },
     "execution_count": 28,
     "metadata": {},
     "output_type": "execute_result"
    }
   ],
   "source": [
    "train.loc[:, 'scheme_management'].value_counts(dropna=False)"
   ]
  },
  {
   "cell_type": "code",
   "execution_count": 29,
   "metadata": {},
   "outputs": [],
   "source": [
    "train.scheme_management.replace(to_replace=('None'), value = \"others\", inplace = True)"
   ]
  },
  {
   "cell_type": "code",
   "execution_count": 30,
   "metadata": {},
   "outputs": [
    {
     "data": {
      "text/plain": [
       "VWC                 40656\n",
       "WUG                  5186\n",
       "Water authority      3153\n",
       "WUA                  2883\n",
       "Water Board          2748\n",
       "Parastatal           1677\n",
       "Private operator     1063\n",
       "Company              1061\n",
       "Other                 766\n",
       "SWC                    97\n",
       "Trust                  72\n",
       "others                  1\n",
       "Name: scheme_management, dtype: int64"
      ]
     },
     "execution_count": 30,
     "metadata": {},
     "output_type": "execute_result"
    }
   ],
   "source": [
    "train.loc[:, 'scheme_management'].value_counts(dropna=False)"
   ]
  },
  {
   "cell_type": "code",
   "execution_count": 31,
   "metadata": {},
   "outputs": [
    {
     "name": "stdout",
     "output_type": "stream",
     "text": [
      "<class 'pandas.core.frame.DataFrame'>\n",
      "RangeIndex: 14850 entries, 0 to 14849\n",
      "Data columns (total 41 columns):\n",
      "id                       14850 non-null int64\n",
      "amount_tsh               14850 non-null float64\n",
      "funder                   14850 non-null object\n",
      "gps_height               14850 non-null int64\n",
      "installer                14850 non-null object\n",
      "longitude                14850 non-null float64\n",
      "latitude                 14850 non-null float64\n",
      "wpt_name                 14850 non-null object\n",
      "num_private              14850 non-null int64\n",
      "basin                    14850 non-null object\n",
      "subvillage               14850 non-null object\n",
      "region                   14850 non-null object\n",
      "region_code              14850 non-null int64\n",
      "district_code            14850 non-null int64\n",
      "lga                      14850 non-null object\n",
      "ward                     14850 non-null object\n",
      "population               14850 non-null float64\n",
      "public_meeting           14850 non-null bool\n",
      "recorded_by              14850 non-null object\n",
      "scheme_management        14850 non-null object\n",
      "scheme_name              14850 non-null object\n",
      "permit                   14850 non-null bool\n",
      "construction_year        14850 non-null int64\n",
      "extraction_type          14850 non-null object\n",
      "extraction_type_group    14850 non-null object\n",
      "extraction_type_class    14850 non-null object\n",
      "management               14850 non-null object\n",
      "management_group         14850 non-null object\n",
      "payment                  14850 non-null object\n",
      "payment_type             14850 non-null object\n",
      "water_quality            14850 non-null object\n",
      "quality_group            14850 non-null object\n",
      "quantity                 14850 non-null object\n",
      "quantity_group           14850 non-null object\n",
      "source                   14850 non-null object\n",
      "source_type              14850 non-null object\n",
      "source_class             14850 non-null object\n",
      "waterpoint_type          14850 non-null object\n",
      "waterpoint_type_group    14850 non-null object\n",
      "month                    14850 non-null int64\n",
      "year                     14850 non-null int64\n",
      "dtypes: bool(2), float64(4), int64(8), object(27)\n",
      "memory usage: 4.4+ MB\n"
     ]
    }
   ],
   "source": [
    "test.info()"
   ]
  },
  {
   "cell_type": "markdown",
   "metadata": {},
   "source": [
    "### calculate uncertainty coefficient to identify most realted feature"
   ]
  },
  {
   "cell_type": "code",
   "execution_count": 32,
   "metadata": {},
   "outputs": [],
   "source": [
    "def entropy_data(x_data,y_data):\n",
    "    \n",
    "    entropy_of_data = 0\n",
    "    count_xy = Counter(list(zip(x_data,y_data)))\n",
    "    count_y = Counter(y_data)\n",
    "    tot_occurr = sum(count_y.values())\n",
    "    for ele in count_xy.keys():\n",
    "        y_prob = count_y[ele[1]] / tot_occurr\n",
    "        xy_prob = count_xy[ele] / tot_occurr\n",
    "        entropy_of_data += xy_prob * math.log(y_prob/xy_prob)\n",
    "    return entropy_of_data\n",
    "\n",
    "def uncertainty_coefficient(x_data,y_data):\n",
    "    count_x = Counter(x_data)\n",
    "    total_occurr = sum(count_x.values())\n",
    "    x_prob = list(map(lambda N: N/total_occurr, count_x.values()))\n",
    "    x_ = st.entropy(x_prob)\n",
    "    xy_ = entropy_data(x_data,y_data)\n",
    "    if (x_ == 0):\n",
    "        return 1\n",
    "    else:\n",
    "        out = (x_ - xy_) / x_\n",
    "        return out"
   ]
  },
  {
   "cell_type": "code",
   "execution_count": 33,
   "metadata": {},
   "outputs": [
    {
     "data": {
      "image/png": "[encoded data removed]",
      "text/plain": [
       "<Figure size 1440x72 with 2 Axes>"
      ]
     },
     "metadata": {
      "needs_background": "light"
     },
     "output_type": "display_data"
    }
   ],
   "source": [
    "cols = train.columns\n",
    "uncertainty_coe = pd.DataFrame(index=['class'],columns=train.columns)\n",
    "\n",
    "for i in range(len(cols)):\n",
    "    u = uncertainty_coefficient(train_label['status_group'].tolist(),train[cols[i]].tolist())\n",
    "    uncertainty_coe.loc[:,cols[i]] = u\n",
    "    \n",
    "uncertainty_coe.fillna(value = np.nan,inplace = True)\n",
    "plt.figure(figsize=(20,1))\n",
    "sns.heatmap(uncertainty_coe, annot=True,fmt='.2f')\n",
    "plt.show()"
   ]
  },
  {
   "cell_type": "markdown",
   "metadata": {},
   "source": [
    "### remove less related columns from train and test sets"
   ]
  },
  {
   "cell_type": "markdown",
   "metadata": {},
   "source": [
    "##### however removing following columns cause to reduce accuracy"
   ]
  },
  {
   "cell_type": "code",
   "execution_count": 34,
   "metadata": {},
   "outputs": [],
   "source": [
    "# drop_columns = ['waterpoint_type_group','payment', 'region','extraction_type_class','management_group', 'quantity_group','recorded_by', 'source_type','extraction_type_group', 'source_class','quality_group', 'payment_type']\n",
    "# test.drop(columns = drop_columns, inplace = True)\n",
    "# train.drop(columns = drop_columns, inplace = True)\n",
    "\n",
    "# for ele in drop_columns:\n",
    "    \n",
    "#     if (col in col_except_id):\n",
    "#         col_except_id.remove(ele)\n"
   ]
  },
  {
   "cell_type": "markdown",
   "metadata": {},
   "source": [
    "### Replace longitude=0,latitude=0 values with the mean of the respective region_code"
   ]
  },
  {
   "cell_type": "code",
   "execution_count": 35,
   "metadata": {},
   "outputs": [],
   "source": [
    "train_g = train.groupby(['region_code'])[['latitude', 'longitude']].mean()\n",
    "\n",
    "train.loc[train['longitude'] == 0,['latitude', 'longitude']] = train[train['longitude']==0].apply(lambda i: train_g.loc[i['region_code'],['latitude', 'longitude']],axis=1)[['latitude', 'longitude']]\n",
    "\n",
    "\n",
    "test_g = test.groupby(['region_code'])[['latitude', 'longitude']].mean()\n",
    "\n",
    "test.loc[test['longitude'] == 0,['latitude', 'longitude']] = test[test['longitude']==0].apply(lambda i: test_g.loc[i['region_code'],['latitude', 'longitude']],axis=1)[['latitude', 'longitude']]"
   ]
  },
  {
   "cell_type": "markdown",
   "metadata": {},
   "source": [
    "### Label set encoding"
   ]
  },
  {
   "cell_type": "code",
   "execution_count": 36,
   "metadata": {},
   "outputs": [],
   "source": [
    "data_classes = ['non functional', 'functional needs repair', 'functional']\n",
    "encoded_label = dict(zip(data_classes, range(0,3,1)))\n",
    "train_label['status_group'] = train_label['status_group'].map(encoded_label, na_action='ignore')\n"
   ]
  },
  {
   "cell_type": "code",
   "execution_count": 37,
   "metadata": {},
   "outputs": [],
   "source": [
    "cat_features = []   #categorical feature list. used for LeaveOneOutEncoder and TargetEncoder\n",
    "for ele in train.columns:\n",
    "    if(type(train[ele][0]) is str):\n",
    "        cat_features.append(ele)"
   ]
  },
  {
   "cell_type": "markdown",
   "metadata": {},
   "source": [
    "### Do target encoding for non-numerical columns"
   ]
  },
  {
   "cell_type": "markdown",
   "metadata": {},
   "source": [
    "#### copy train and test data to train_ and test_  for catboost training"
   ]
  },
  {
   "cell_type": "code",
   "execution_count": 38,
   "metadata": {},
   "outputs": [],
   "source": [
    "from category_encoders import TargetEncoder\n",
    "from category_encoders import LeaveOneOutEncoder\n",
    "\n",
    "## create duplicate dataframe of train and test for catboost classification\n",
    "\n",
    "train_ = train\n",
    "test_ = test\n",
    "\n",
    "train_encode = train_.sample(frac=0.25, random_state=42)\n",
    "train_label_encode = train_label.loc[train_encode.index]\n",
    "\n",
    "column_with_str = []\n",
    "for col in col_except_id:\n",
    "    if (type(train[col][0]) is str ):\n",
    "        column_with_str.append(col)\n",
    "\n",
    "enc = LeaveOneOutEncoder(cols=cat_features, sigma=0.05, random_state=42)\n",
    "# enc = TargetEncoder(cols=cat_features)\n",
    "    \n",
    "enc = enc.fit(train_encode, train_label_encode['status_group'])\n",
    "train_ = enc.transform(train_)\n",
    "test_ = enc.transform(test_)"
   ]
  },
  {
   "cell_type": "code",
   "execution_count": 39,
   "metadata": {},
   "outputs": [
    {
     "data": {
      "text/html": [
       "<div>\n",
       "<style scoped>\n",
       "    .dataframe tbody tr th:only-of-type {\n",
       "        vertical-align: middle;\n",
       "    }\n",
       "\n",
       "    .dataframe tbody tr th {\n",
       "        vertical-align: top;\n",
       "    }\n",
       "\n",
       "    .dataframe thead th {\n",
       "        text-align: right;\n",
       "    }\n",
       "</style>\n",
       "<table border=\"1\" class=\"dataframe\">\n",
       "  <thead>\n",
       "    <tr style=\"text-align: right;\">\n",
       "      <th></th>\n",
       "      <th>id</th>\n",
       "      <th>amount_tsh</th>\n",
       "      <th>funder</th>\n",
       "      <th>gps_height</th>\n",
       "      <th>installer</th>\n",
       "      <th>longitude</th>\n",
       "      <th>latitude</th>\n",
       "      <th>wpt_name</th>\n",
       "      <th>num_private</th>\n",
       "      <th>basin</th>\n",
       "      <th>...</th>\n",
       "      <th>quality_group</th>\n",
       "      <th>quantity</th>\n",
       "      <th>quantity_group</th>\n",
       "      <th>source</th>\n",
       "      <th>source_type</th>\n",
       "      <th>source_class</th>\n",
       "      <th>waterpoint_type</th>\n",
       "      <th>waterpoint_type_group</th>\n",
       "      <th>month</th>\n",
       "      <th>year</th>\n",
       "    </tr>\n",
       "  </thead>\n",
       "  <tbody>\n",
       "    <tr>\n",
       "      <td>0</td>\n",
       "      <td>69572</td>\n",
       "      <td>6000.0</td>\n",
       "      <td>1.819444</td>\n",
       "      <td>1390</td>\n",
       "      <td>1.166904</td>\n",
       "      <td>34.938093</td>\n",
       "      <td>-9.856322</td>\n",
       "      <td>1.521277</td>\n",
       "      <td>0</td>\n",
       "      <td>1.380686</td>\n",
       "      <td>...</td>\n",
       "      <td>1.218915</td>\n",
       "      <td>1.383985</td>\n",
       "      <td>1.383985</td>\n",
       "      <td>1.340471</td>\n",
       "      <td>1.340471</td>\n",
       "      <td>1.155154</td>\n",
       "      <td>1.329718</td>\n",
       "      <td>1.245231</td>\n",
       "      <td>3</td>\n",
       "      <td>2011</td>\n",
       "    </tr>\n",
       "    <tr>\n",
       "      <td>1</td>\n",
       "      <td>8776</td>\n",
       "      <td>0.0</td>\n",
       "      <td>1.250143</td>\n",
       "      <td>1399</td>\n",
       "      <td>1.166904</td>\n",
       "      <td>34.698766</td>\n",
       "      <td>-2.147466</td>\n",
       "      <td>1.146919</td>\n",
       "      <td>0</td>\n",
       "      <td>1.086557</td>\n",
       "      <td>...</td>\n",
       "      <td>1.218915</td>\n",
       "      <td>1.148158</td>\n",
       "      <td>1.148158</td>\n",
       "      <td>1.334495</td>\n",
       "      <td>1.334495</td>\n",
       "      <td>1.195600</td>\n",
       "      <td>1.329718</td>\n",
       "      <td>1.245231</td>\n",
       "      <td>3</td>\n",
       "      <td>2013</td>\n",
       "    </tr>\n",
       "    <tr>\n",
       "      <td>2</td>\n",
       "      <td>34310</td>\n",
       "      <td>25.0</td>\n",
       "      <td>1.250143</td>\n",
       "      <td>686</td>\n",
       "      <td>1.467890</td>\n",
       "      <td>37.460664</td>\n",
       "      <td>-3.821329</td>\n",
       "      <td>1.163533</td>\n",
       "      <td>0</td>\n",
       "      <td>1.273863</td>\n",
       "      <td>...</td>\n",
       "      <td>1.218915</td>\n",
       "      <td>1.383985</td>\n",
       "      <td>1.383985</td>\n",
       "      <td>0.750000</td>\n",
       "      <td>0.750000</td>\n",
       "      <td>1.195600</td>\n",
       "      <td>0.857973</td>\n",
       "      <td>1.245231</td>\n",
       "      <td>2</td>\n",
       "      <td>2013</td>\n",
       "    </tr>\n",
       "    <tr>\n",
       "      <td>3</td>\n",
       "      <td>67743</td>\n",
       "      <td>0.0</td>\n",
       "      <td>1.200000</td>\n",
       "      <td>263</td>\n",
       "      <td>1.187500</td>\n",
       "      <td>38.486161</td>\n",
       "      <td>-11.155298</td>\n",
       "      <td>1.163533</td>\n",
       "      <td>0</td>\n",
       "      <td>0.820444</td>\n",
       "      <td>...</td>\n",
       "      <td>1.218915</td>\n",
       "      <td>0.059539</td>\n",
       "      <td>0.059539</td>\n",
       "      <td>1.052577</td>\n",
       "      <td>1.060822</td>\n",
       "      <td>1.155154</td>\n",
       "      <td>0.857973</td>\n",
       "      <td>1.245231</td>\n",
       "      <td>1</td>\n",
       "      <td>2013</td>\n",
       "    </tr>\n",
       "    <tr>\n",
       "      <td>4</td>\n",
       "      <td>19728</td>\n",
       "      <td>0.0</td>\n",
       "      <td>1.250143</td>\n",
       "      <td>0</td>\n",
       "      <td>1.285714</td>\n",
       "      <td>31.130847</td>\n",
       "      <td>-1.825359</td>\n",
       "      <td>1.092269</td>\n",
       "      <td>0</td>\n",
       "      <td>1.086557</td>\n",
       "      <td>...</td>\n",
       "      <td>1.218915</td>\n",
       "      <td>1.249487</td>\n",
       "      <td>1.249487</td>\n",
       "      <td>1.334495</td>\n",
       "      <td>1.334495</td>\n",
       "      <td>1.195600</td>\n",
       "      <td>1.329718</td>\n",
       "      <td>1.245231</td>\n",
       "      <td>7</td>\n",
       "      <td>2011</td>\n",
       "    </tr>\n",
       "  </tbody>\n",
       "</table>\n",
       "<p>5 rows × 41 columns</p>\n",
       "</div>"
      ],
      "text/plain": [
       "      id  amount_tsh    funder  gps_height  installer  longitude   latitude  \\\n",
       "0  69572      6000.0  1.819444        1390   1.166904  34.938093  -9.856322   \n",
       "1   8776         0.0  1.250143        1399   1.166904  34.698766  -2.147466   \n",
       "2  34310        25.0  1.250143         686   1.467890  37.460664  -3.821329   \n",
       "3  67743         0.0  1.200000         263   1.187500  38.486161 -11.155298   \n",
       "4  19728         0.0  1.250143           0   1.285714  31.130847  -1.825359   \n",
       "\n",
       "   wpt_name  num_private     basin  ...  quality_group  quantity  \\\n",
       "0  1.521277            0  1.380686  ...       1.218915  1.383985   \n",
       "1  1.146919            0  1.086557  ...       1.218915  1.148158   \n",
       "2  1.163533            0  1.273863  ...       1.218915  1.383985   \n",
       "3  1.163533            0  0.820444  ...       1.218915  0.059539   \n",
       "4  1.092269            0  1.086557  ...       1.218915  1.249487   \n",
       "\n",
       "   quantity_group    source  source_type  source_class  waterpoint_type  \\\n",
       "0        1.383985  1.340471     1.340471      1.155154         1.329718   \n",
       "1        1.148158  1.334495     1.334495      1.195600         1.329718   \n",
       "2        1.383985  0.750000     0.750000      1.195600         0.857973   \n",
       "3        0.059539  1.052577     1.060822      1.155154         0.857973   \n",
       "4        1.249487  1.334495     1.334495      1.195600         1.329718   \n",
       "\n",
       "   waterpoint_type_group  month  year  \n",
       "0               1.245231      3  2011  \n",
       "1               1.245231      3  2013  \n",
       "2               1.245231      2  2013  \n",
       "3               1.245231      1  2013  \n",
       "4               1.245231      7  2011  \n",
       "\n",
       "[5 rows x 41 columns]"
      ]
     },
     "execution_count": 39,
     "metadata": {},
     "output_type": "execute_result"
    }
   ],
   "source": [
    "train_.head()"
   ]
  },
  {
   "cell_type": "code",
   "execution_count": 40,
   "metadata": {},
   "outputs": [
    {
     "data": {
      "text/html": [
       "<div>\n",
       "<style scoped>\n",
       "    .dataframe tbody tr th:only-of-type {\n",
       "        vertical-align: middle;\n",
       "    }\n",
       "\n",
       "    .dataframe tbody tr th {\n",
       "        vertical-align: top;\n",
       "    }\n",
       "\n",
       "    .dataframe thead th {\n",
       "        text-align: right;\n",
       "    }\n",
       "</style>\n",
       "<table border=\"1\" class=\"dataframe\">\n",
       "  <thead>\n",
       "    <tr style=\"text-align: right;\">\n",
       "      <th></th>\n",
       "      <th>id</th>\n",
       "      <th>amount_tsh</th>\n",
       "      <th>funder</th>\n",
       "      <th>gps_height</th>\n",
       "      <th>installer</th>\n",
       "      <th>longitude</th>\n",
       "      <th>latitude</th>\n",
       "      <th>wpt_name</th>\n",
       "      <th>num_private</th>\n",
       "      <th>basin</th>\n",
       "      <th>...</th>\n",
       "      <th>quality_group</th>\n",
       "      <th>quantity</th>\n",
       "      <th>quantity_group</th>\n",
       "      <th>source</th>\n",
       "      <th>source_type</th>\n",
       "      <th>source_class</th>\n",
       "      <th>waterpoint_type</th>\n",
       "      <th>waterpoint_type_group</th>\n",
       "      <th>month</th>\n",
       "      <th>year</th>\n",
       "    </tr>\n",
       "  </thead>\n",
       "  <tbody>\n",
       "    <tr>\n",
       "      <td>0</td>\n",
       "      <td>50785</td>\n",
       "      <td>0.0</td>\n",
       "      <td>1.705882</td>\n",
       "      <td>1996</td>\n",
       "      <td>1.650000</td>\n",
       "      <td>35.290799</td>\n",
       "      <td>-4.059696</td>\n",
       "      <td>1.163533</td>\n",
       "      <td>0</td>\n",
       "      <td>1.235535</td>\n",
       "      <td>...</td>\n",
       "      <td>1.218915</td>\n",
       "      <td>1.249487</td>\n",
       "      <td>1.249487</td>\n",
       "      <td>1.334495</td>\n",
       "      <td>1.334495</td>\n",
       "      <td>1.195600</td>\n",
       "      <td>0.325177</td>\n",
       "      <td>0.325177</td>\n",
       "      <td>2</td>\n",
       "      <td>2013</td>\n",
       "    </tr>\n",
       "    <tr>\n",
       "      <td>1</td>\n",
       "      <td>51630</td>\n",
       "      <td>0.0</td>\n",
       "      <td>0.993683</td>\n",
       "      <td>1569</td>\n",
       "      <td>1.193188</td>\n",
       "      <td>36.656709</td>\n",
       "      <td>-3.309214</td>\n",
       "      <td>1.163533</td>\n",
       "      <td>0</td>\n",
       "      <td>1.273863</td>\n",
       "      <td>...</td>\n",
       "      <td>1.218915</td>\n",
       "      <td>1.148158</td>\n",
       "      <td>1.148158</td>\n",
       "      <td>1.340471</td>\n",
       "      <td>1.340471</td>\n",
       "      <td>1.155154</td>\n",
       "      <td>1.329718</td>\n",
       "      <td>1.245231</td>\n",
       "      <td>2</td>\n",
       "      <td>2013</td>\n",
       "    </tr>\n",
       "    <tr>\n",
       "      <td>2</td>\n",
       "      <td>17168</td>\n",
       "      <td>0.0</td>\n",
       "      <td>0.993683</td>\n",
       "      <td>1567</td>\n",
       "      <td>1.193188</td>\n",
       "      <td>34.767863</td>\n",
       "      <td>-5.004344</td>\n",
       "      <td>1.163533</td>\n",
       "      <td>0</td>\n",
       "      <td>1.235535</td>\n",
       "      <td>...</td>\n",
       "      <td>1.218915</td>\n",
       "      <td>1.148158</td>\n",
       "      <td>1.148158</td>\n",
       "      <td>1.334495</td>\n",
       "      <td>1.334495</td>\n",
       "      <td>1.195600</td>\n",
       "      <td>0.325177</td>\n",
       "      <td>0.325177</td>\n",
       "      <td>2</td>\n",
       "      <td>2013</td>\n",
       "    </tr>\n",
       "    <tr>\n",
       "      <td>3</td>\n",
       "      <td>45559</td>\n",
       "      <td>0.0</td>\n",
       "      <td>1.163533</td>\n",
       "      <td>267</td>\n",
       "      <td>1.163533</td>\n",
       "      <td>38.058046</td>\n",
       "      <td>-9.418672</td>\n",
       "      <td>1.163533</td>\n",
       "      <td>0</td>\n",
       "      <td>0.820444</td>\n",
       "      <td>...</td>\n",
       "      <td>1.218915</td>\n",
       "      <td>0.059539</td>\n",
       "      <td>0.059539</td>\n",
       "      <td>1.038351</td>\n",
       "      <td>1.038351</td>\n",
       "      <td>1.155154</td>\n",
       "      <td>0.325177</td>\n",
       "      <td>0.325177</td>\n",
       "      <td>1</td>\n",
       "      <td>2013</td>\n",
       "    </tr>\n",
       "    <tr>\n",
       "      <td>4</td>\n",
       "      <td>49871</td>\n",
       "      <td>500.0</td>\n",
       "      <td>1.163533</td>\n",
       "      <td>1260</td>\n",
       "      <td>1.163533</td>\n",
       "      <td>35.006123</td>\n",
       "      <td>-10.950412</td>\n",
       "      <td>1.163533</td>\n",
       "      <td>0</td>\n",
       "      <td>0.820444</td>\n",
       "      <td>...</td>\n",
       "      <td>1.218915</td>\n",
       "      <td>1.383985</td>\n",
       "      <td>1.383985</td>\n",
       "      <td>1.340471</td>\n",
       "      <td>1.340471</td>\n",
       "      <td>1.155154</td>\n",
       "      <td>1.329718</td>\n",
       "      <td>1.245231</td>\n",
       "      <td>3</td>\n",
       "      <td>2013</td>\n",
       "    </tr>\n",
       "  </tbody>\n",
       "</table>\n",
       "<p>5 rows × 41 columns</p>\n",
       "</div>"
      ],
      "text/plain": [
       "      id  amount_tsh    funder  gps_height  installer  longitude   latitude  \\\n",
       "0  50785         0.0  1.705882        1996   1.650000  35.290799  -4.059696   \n",
       "1  51630         0.0  0.993683        1569   1.193188  36.656709  -3.309214   \n",
       "2  17168         0.0  0.993683        1567   1.193188  34.767863  -5.004344   \n",
       "3  45559         0.0  1.163533         267   1.163533  38.058046  -9.418672   \n",
       "4  49871       500.0  1.163533        1260   1.163533  35.006123 -10.950412   \n",
       "\n",
       "   wpt_name  num_private     basin  ...  quality_group  quantity  \\\n",
       "0  1.163533            0  1.235535  ...       1.218915  1.249487   \n",
       "1  1.163533            0  1.273863  ...       1.218915  1.148158   \n",
       "2  1.163533            0  1.235535  ...       1.218915  1.148158   \n",
       "3  1.163533            0  0.820444  ...       1.218915  0.059539   \n",
       "4  1.163533            0  0.820444  ...       1.218915  1.383985   \n",
       "\n",
       "   quantity_group    source  source_type  source_class  waterpoint_type  \\\n",
       "0        1.249487  1.334495     1.334495      1.195600         0.325177   \n",
       "1        1.148158  1.340471     1.340471      1.155154         1.329718   \n",
       "2        1.148158  1.334495     1.334495      1.195600         0.325177   \n",
       "3        0.059539  1.038351     1.038351      1.155154         0.325177   \n",
       "4        1.383985  1.340471     1.340471      1.155154         1.329718   \n",
       "\n",
       "   waterpoint_type_group  month  year  \n",
       "0               0.325177      2  2013  \n",
       "1               1.245231      2  2013  \n",
       "2               0.325177      2  2013  \n",
       "3               0.325177      1  2013  \n",
       "4               1.245231      3  2013  \n",
       "\n",
       "[5 rows x 41 columns]"
      ]
     },
     "execution_count": 40,
     "metadata": {},
     "output_type": "execute_result"
    }
   ],
   "source": [
    "test_.head()"
   ]
  },
  {
   "cell_type": "markdown",
   "metadata": {},
   "source": [
    "### convert boolean value columns to 0's and 1's"
   ]
  },
  {
   "cell_type": "code",
   "execution_count": 41,
   "metadata": {},
   "outputs": [],
   "source": [
    "train_.permit = train_.permit.astype(bool).astype(int)\n",
    "train_.public_meeting = train_.public_meeting.astype(bool).astype(int)\n",
    "\n",
    "\n",
    "train.permit = train.permit.astype(bool).astype(int)\n",
    "train.public_meeting = train.public_meeting.astype(bool).astype(int)\n",
    "\n",
    "test.permit = test.permit.astype(bool).astype(int)\n",
    "test.public_meeting = test.public_meeting.astype(bool).astype(int)\n",
    "\n",
    "\n",
    "test_.permit = test_.permit.astype(bool).astype(int)\n",
    "test_.public_meeting = test_.public_meeting.astype(bool).astype(int)"
   ]
  },
  {
   "cell_type": "markdown",
   "metadata": {},
   "source": [
    "### Perform onehot encoding for permit and public_meeting"
   ]
  },
  {
   "cell_type": "code",
   "execution_count": 42,
   "metadata": {},
   "outputs": [],
   "source": [
    "train_ = pd.get_dummies(train_, columns = ['permit', 'public_meeting'])\n",
    "train = pd.get_dummies(train, columns = ['permit', 'public_meeting'])\n",
    "\n",
    "test = pd.get_dummies(test, columns = ['permit', 'public_meeting'])\n",
    "test_ = pd.get_dummies(test_, columns = ['permit', 'public_meeting'])\n"
   ]
  },
  {
   "cell_type": "code",
   "execution_count": 43,
   "metadata": {},
   "outputs": [
    {
     "data": {
      "text/html": [
       "<div>\n",
       "<style scoped>\n",
       "    .dataframe tbody tr th:only-of-type {\n",
       "        vertical-align: middle;\n",
       "    }\n",
       "\n",
       "    .dataframe tbody tr th {\n",
       "        vertical-align: top;\n",
       "    }\n",
       "\n",
       "    .dataframe thead th {\n",
       "        text-align: right;\n",
       "    }\n",
       "</style>\n",
       "<table border=\"1\" class=\"dataframe\">\n",
       "  <thead>\n",
       "    <tr style=\"text-align: right;\">\n",
       "      <th></th>\n",
       "      <th>id</th>\n",
       "      <th>amount_tsh</th>\n",
       "      <th>funder</th>\n",
       "      <th>gps_height</th>\n",
       "      <th>installer</th>\n",
       "      <th>longitude</th>\n",
       "      <th>latitude</th>\n",
       "      <th>wpt_name</th>\n",
       "      <th>num_private</th>\n",
       "      <th>basin</th>\n",
       "      <th>...</th>\n",
       "      <th>source_type</th>\n",
       "      <th>source_class</th>\n",
       "      <th>waterpoint_type</th>\n",
       "      <th>waterpoint_type_group</th>\n",
       "      <th>month</th>\n",
       "      <th>year</th>\n",
       "      <th>permit_0</th>\n",
       "      <th>permit_1</th>\n",
       "      <th>public_meeting_0</th>\n",
       "      <th>public_meeting_1</th>\n",
       "    </tr>\n",
       "  </thead>\n",
       "  <tbody>\n",
       "    <tr>\n",
       "      <td>0</td>\n",
       "      <td>69572</td>\n",
       "      <td>6000.0</td>\n",
       "      <td>1.819444</td>\n",
       "      <td>1390</td>\n",
       "      <td>1.166904</td>\n",
       "      <td>34.938093</td>\n",
       "      <td>-9.856322</td>\n",
       "      <td>1.521277</td>\n",
       "      <td>0</td>\n",
       "      <td>1.380686</td>\n",
       "      <td>...</td>\n",
       "      <td>1.340471</td>\n",
       "      <td>1.155154</td>\n",
       "      <td>1.329718</td>\n",
       "      <td>1.245231</td>\n",
       "      <td>3</td>\n",
       "      <td>2011</td>\n",
       "      <td>1</td>\n",
       "      <td>0</td>\n",
       "      <td>0</td>\n",
       "      <td>1</td>\n",
       "    </tr>\n",
       "    <tr>\n",
       "      <td>1</td>\n",
       "      <td>8776</td>\n",
       "      <td>0.0</td>\n",
       "      <td>1.250143</td>\n",
       "      <td>1399</td>\n",
       "      <td>1.166904</td>\n",
       "      <td>34.698766</td>\n",
       "      <td>-2.147466</td>\n",
       "      <td>1.146919</td>\n",
       "      <td>0</td>\n",
       "      <td>1.086557</td>\n",
       "      <td>...</td>\n",
       "      <td>1.334495</td>\n",
       "      <td>1.195600</td>\n",
       "      <td>1.329718</td>\n",
       "      <td>1.245231</td>\n",
       "      <td>3</td>\n",
       "      <td>2013</td>\n",
       "      <td>0</td>\n",
       "      <td>1</td>\n",
       "      <td>0</td>\n",
       "      <td>1</td>\n",
       "    </tr>\n",
       "    <tr>\n",
       "      <td>2</td>\n",
       "      <td>34310</td>\n",
       "      <td>25.0</td>\n",
       "      <td>1.250143</td>\n",
       "      <td>686</td>\n",
       "      <td>1.467890</td>\n",
       "      <td>37.460664</td>\n",
       "      <td>-3.821329</td>\n",
       "      <td>1.163533</td>\n",
       "      <td>0</td>\n",
       "      <td>1.273863</td>\n",
       "      <td>...</td>\n",
       "      <td>0.750000</td>\n",
       "      <td>1.195600</td>\n",
       "      <td>0.857973</td>\n",
       "      <td>1.245231</td>\n",
       "      <td>2</td>\n",
       "      <td>2013</td>\n",
       "      <td>0</td>\n",
       "      <td>1</td>\n",
       "      <td>0</td>\n",
       "      <td>1</td>\n",
       "    </tr>\n",
       "    <tr>\n",
       "      <td>3</td>\n",
       "      <td>67743</td>\n",
       "      <td>0.0</td>\n",
       "      <td>1.200000</td>\n",
       "      <td>263</td>\n",
       "      <td>1.187500</td>\n",
       "      <td>38.486161</td>\n",
       "      <td>-11.155298</td>\n",
       "      <td>1.163533</td>\n",
       "      <td>0</td>\n",
       "      <td>0.820444</td>\n",
       "      <td>...</td>\n",
       "      <td>1.060822</td>\n",
       "      <td>1.155154</td>\n",
       "      <td>0.857973</td>\n",
       "      <td>1.245231</td>\n",
       "      <td>1</td>\n",
       "      <td>2013</td>\n",
       "      <td>0</td>\n",
       "      <td>1</td>\n",
       "      <td>0</td>\n",
       "      <td>1</td>\n",
       "    </tr>\n",
       "    <tr>\n",
       "      <td>4</td>\n",
       "      <td>19728</td>\n",
       "      <td>0.0</td>\n",
       "      <td>1.250143</td>\n",
       "      <td>0</td>\n",
       "      <td>1.285714</td>\n",
       "      <td>31.130847</td>\n",
       "      <td>-1.825359</td>\n",
       "      <td>1.092269</td>\n",
       "      <td>0</td>\n",
       "      <td>1.086557</td>\n",
       "      <td>...</td>\n",
       "      <td>1.334495</td>\n",
       "      <td>1.195600</td>\n",
       "      <td>1.329718</td>\n",
       "      <td>1.245231</td>\n",
       "      <td>7</td>\n",
       "      <td>2011</td>\n",
       "      <td>0</td>\n",
       "      <td>1</td>\n",
       "      <td>0</td>\n",
       "      <td>1</td>\n",
       "    </tr>\n",
       "  </tbody>\n",
       "</table>\n",
       "<p>5 rows × 43 columns</p>\n",
       "</div>"
      ],
      "text/plain": [
       "      id  amount_tsh    funder  gps_height  installer  longitude   latitude  \\\n",
       "0  69572      6000.0  1.819444        1390   1.166904  34.938093  -9.856322   \n",
       "1   8776         0.0  1.250143        1399   1.166904  34.698766  -2.147466   \n",
       "2  34310        25.0  1.250143         686   1.467890  37.460664  -3.821329   \n",
       "3  67743         0.0  1.200000         263   1.187500  38.486161 -11.155298   \n",
       "4  19728         0.0  1.250143           0   1.285714  31.130847  -1.825359   \n",
       "\n",
       "   wpt_name  num_private     basin  ...  source_type  source_class  \\\n",
       "0  1.521277            0  1.380686  ...     1.340471      1.155154   \n",
       "1  1.146919            0  1.086557  ...     1.334495      1.195600   \n",
       "2  1.163533            0  1.273863  ...     0.750000      1.195600   \n",
       "3  1.163533            0  0.820444  ...     1.060822      1.155154   \n",
       "4  1.092269            0  1.086557  ...     1.334495      1.195600   \n",
       "\n",
       "   waterpoint_type  waterpoint_type_group  month  year  permit_0  permit_1  \\\n",
       "0         1.329718               1.245231      3  2011         1         0   \n",
       "1         1.329718               1.245231      3  2013         0         1   \n",
       "2         0.857973               1.245231      2  2013         0         1   \n",
       "3         0.857973               1.245231      1  2013         0         1   \n",
       "4         1.329718               1.245231      7  2011         0         1   \n",
       "\n",
       "   public_meeting_0  public_meeting_1  \n",
       "0                 0                 1  \n",
       "1                 0                 1  \n",
       "2                 0                 1  \n",
       "3                 0                 1  \n",
       "4                 0                 1  \n",
       "\n",
       "[5 rows x 43 columns]"
      ]
     },
     "execution_count": 43,
     "metadata": {},
     "output_type": "execute_result"
    }
   ],
   "source": [
    "train_.head()"
   ]
  },
  {
   "cell_type": "markdown",
   "metadata": {},
   "source": [
    "### removing 'id' column from both train_ and train_label set"
   ]
  },
  {
   "cell_type": "code",
   "execution_count": 44,
   "metadata": {},
   "outputs": [],
   "source": [
    "train_label = train_label.drop(['id'], axis=1)\n",
    "train_ = train_.drop(['id'], axis=1)\n",
    "train = train.drop(['id'], axis=1)"
   ]
  },
  {
   "cell_type": "markdown",
   "metadata": {},
   "source": [
    "### split train data set to X_train and X_test "
   ]
  },
  {
   "cell_type": "code",
   "execution_count": 45,
   "metadata": {},
   "outputs": [],
   "source": [
    "X_train, X_test, y_train, y_test = train_test_split(train_,train_label['status_group'], test_size=0.1, stratify= train_label['status_group'])"
   ]
  },
  {
   "cell_type": "markdown",
   "metadata": {},
   "source": [
    "### use SMOTE to handle imblanced train dataset"
   ]
  },
  {
   "cell_type": "code",
   "execution_count": 46,
   "metadata": {},
   "outputs": [],
   "source": [
    "from imblearn.over_sampling import SMOTE\n",
    "from imblearn.over_sampling import SMOTENC\n",
    "\n",
    "oversample = SMOTE(sampling_strategy = 'auto', n_jobs = -1, random_state=42)\n",
    "X_sampled, y_sampled = oversample.fit_resample(train_, train_label)"
   ]
  },
  {
   "cell_type": "code",
   "execution_count": 47,
   "metadata": {},
   "outputs": [],
   "source": [
    "oversample = SMOTE(sampling_strategy = 'auto', n_jobs = -1, random_state=42)\n",
    "X_train_sampled, y_train_sampled = oversample.fit_resample(X_train, y_train)\n"
   ]
  },
  {
   "cell_type": "markdown",
   "metadata": {},
   "source": [
    "### Normalization and classify using XGB classifier"
   ]
  },
  {
   "cell_type": "code",
   "execution_count": 48,
   "metadata": {},
   "outputs": [
    {
     "name": "stderr",
     "output_type": "stream",
     "text": [
      "C:\\Users\\sh\\Anaconda3\\lib\\site-packages\\xgboost\\sklearn.py:1146: UserWarning: The use of label encoder in XGBClassifier is deprecated and will be removed in a future release. To remove this warning, do the following: 1) Pass option use_label_encoder=False when constructing XGBClassifier object; and 2) Encode your labels (y) as integers starting with 0, i.e. 0, 1, 2, ..., [num_class - 1].\n",
      "  warnings.warn(label_encoder_deprecation_msg, UserWarning)\n",
      "C:\\Users\\sh\\Anaconda3\\lib\\site-packages\\sklearn\\utils\\validation.py:63: DataConversionWarning: A column-vector y was passed when a 1d array was expected. Please change the shape of y to (n_samples, ), for example using ravel().\n",
      "  return f(*args, **kwargs)\n"
     ]
    },
    {
     "name": "stdout",
     "output_type": "stream",
     "text": [
      "[16:41:18] WARNING: C:/Users/Administrator/workspace/xgboost-win64_release_1.4.0/src/learner.cc:573: \n",
      "Parameters: { \"maximize\", \"nrounds\" } might not be used.\n",
      "\n",
      "  This may not be accurate due to some parameters are only used in language bindings but\n",
      "  passed down to XGBoost core.  Or some parameters are not used but slip through this\n",
      "  verification. Please open an issue if you find above cases.\n",
      "\n",
      "\n"
     ]
    },
    {
     "data": {
      "text/plain": [
       "XGBClassifier(base_score=0.5, booster='gbtree', colsample_bylevel=1,\n",
       "              colsample_bynode=1, colsample_bytree=0.4, eta=0.1,\n",
       "              eval_metric='merror', gamma=0, gpu_id=-1, importance_type='gain',\n",
       "              interaction_constraints='', learning_rate=0.100000001,\n",
       "              max_delta_step=0, max_depth=16, maximize=False,\n",
       "              min_child_weight=1, missing=nan, monotone_constraints='()',\n",
       "              n_estimators=100, n_jobs=-1, nrounds='min.error.idx', num_class=3,\n",
       "              num_parallel_tree=1, objective='multi:softprob', random_state=42,\n",
       "              reg_alpha=0, reg_lambda=1, scale_pos_weight=None, subsample=1,\n",
       "              tree_method='exact', ...)"
      ]
     },
     "execution_count": 48,
     "metadata": {},
     "output_type": "execute_result"
    }
   ],
   "source": [
    "model = XGBClassifier(objective = 'multi:softmax', booster = 'gbtree', nrounds = 'min.error.idx',\n",
    "                      num_class = 3, maximize = False, eval_metric = 'merror', eta = .1,\n",
    "                      max_depth = 16, colsample_bytree = .4, n_jobs = -1, random_state=42)\n",
    "\n",
    "\n",
    "# X_sampled = ((X_sampled-X_sampled.min())/(X_sampled.max()-X_sampled.min()))\n",
    "# X_train_sampled = ((X_train_sampled-X_train_sampled.min())/(X_train_sampled.max()-X_train_sampled.min()))\n",
    "# X_train = ((X_train-X_train.min())/(X_train.max()-X_train.min()))\n",
    "# X_test = ((X_test-X_test.min())/(X_test.max()-X_test.min()))\n",
    "\n",
    "model.fit(X_sampled, y_sampled)"
   ]
  },
  {
   "cell_type": "markdown",
   "metadata": {},
   "source": [
    "### Feature importance"
   ]
  },
  {
   "cell_type": "code",
   "execution_count": 49,
   "metadata": {},
   "outputs": [
    {
     "name": "stdout",
     "output_type": "stream",
     "text": [
      "[0.01217348 0.01748786 0.0110255  0.01255176 0.01432445 0.01146414\n",
      " 0.01144216 0.01267455 0.02436103 0.02554546 0.02383915 0.01643518\n",
      " 0.02041492 0.02328952 0.02314069 0.00962008 0.         0.0209794\n",
      " 0.03716483 0.01413033 0.0264179  0.0395587  0.02998933 0.01799568\n",
      " 0.01670549 0.02564694 0.01870577 0.01525803 0.01303936 0.06685212\n",
      " 0.11671897 0.0235812  0.03737426 0.03600745 0.05064066 0.03592233\n",
      " 0.01430212 0.01522856 0.01564509 0.01495326 0.01160372 0.01578865]\n"
     ]
    },
    {
     "data": {
      "image/png": "[encoded data removed]",
      "text/plain": [
       "<Figure size 432x288 with 1 Axes>"
      ]
     },
     "metadata": {
      "needs_background": "light"
     },
     "output_type": "display_data"
    }
   ],
   "source": [
    "from matplotlib import pyplot\n",
    "print(model.feature_importances_)\n",
    "\n",
    "pyplot.bar(range(len(model.feature_importances_)), model.feature_importances_)\n",
    "pyplot.show()"
   ]
  },
  {
   "cell_type": "markdown",
   "metadata": {},
   "source": [
    "### predict outcome for  X_test, X_test, and X_train_sampled"
   ]
  },
  {
   "cell_type": "code",
   "execution_count": 50,
   "metadata": {},
   "outputs": [],
   "source": [
    "X_train_sampled_predictions = model.predict(X_train_sampled)\n",
    "train_predictions = model.predict(X_train)\n",
    "test_predictions = model.predict(X_test)"
   ]
  },
  {
   "cell_type": "markdown",
   "metadata": {},
   "source": [
    "### evaluate predictions"
   ]
  },
  {
   "cell_type": "code",
   "execution_count": 51,
   "metadata": {},
   "outputs": [
    {
     "name": "stdout",
     "output_type": "stream",
     "text": [
      "Accuracy x_train_sampled: 96.33%\n",
      "Accuracy train: 96.42%\n",
      "Accuracy sample: 96.41%\n"
     ]
    }
   ],
   "source": [
    "accuracy_sampled = accuracy_score(y_train_sampled, X_train_sampled_predictions)\n",
    "print(\"Accuracy x_train_sampled: %.2f%%\" % (accuracy_sampled * 100.0))\n",
    "\n",
    "accuracy_train = accuracy_score(y_train, train_predictions)\n",
    "print(\"Accuracy train: %.2f%%\" % (accuracy_train * 100.0))\n",
    "\n",
    "accuracy_test = accuracy_score(y_test, test_predictions)\n",
    "print(\"Accuracy sample: %.2f%%\" % (accuracy_test * 100.0))"
   ]
  },
  {
   "cell_type": "markdown",
   "metadata": {},
   "source": [
    "### plot confusion matrices for XGB classifier"
   ]
  },
  {
   "cell_type": "code",
   "execution_count": 52,
   "metadata": {},
   "outputs": [
    {
     "data": {
      "image/png": "[encoded data removed]",
      "text/plain": [
       "<Figure size 432x288 with 1 Axes>"
      ]
     },
     "metadata": {
      "needs_background": "light"
     },
     "output_type": "display_data"
    }
   ],
   "source": [
    "confusion_matrix = confusion_matrix(y_test, test_predictions)\n",
    "plot_confusion_matrix(confusion_matrix)\n",
    "plt.show()\n",
    "# y_train.head()"
   ]
  },
  {
   "cell_type": "code",
   "execution_count": 53,
   "metadata": {},
   "outputs": [
    {
     "data": {
      "image/png": "[encoded data removed]",
      "text/plain": [
       "<Figure size 432x288 with 1 Axes>"
      ]
     },
     "metadata": {
      "needs_background": "light"
     },
     "output_type": "display_data"
    }
   ],
   "source": [
    "from sklearn.metrics import confusion_matrix\n",
    "cfm = confusion_matrix(y_train, train_predictions)\n",
    "plot_confusion_matrix(cfm)\n",
    "plt.show()\n",
    "\n",
    "# print(test_predictions)\n",
    "# print(type(test_predictions))"
   ]
  },
  {
   "cell_type": "markdown",
   "metadata": {},
   "source": [
    "### K-fold cross validation"
   ]
  },
  {
   "cell_type": "code",
   "execution_count": 54,
   "metadata": {},
   "outputs": [
    {
     "name": "stdout",
     "output_type": "stream",
     "text": [
      "Accuracy: 0.865 (0.044)\n"
     ]
    }
   ],
   "source": [
    "cv = KFold(n_splits=10, random_state=42, shuffle=True)\n",
    "scores = cross_val_score(model, X_train_sampled, y_train_sampled, scoring='accuracy', cv=5, n_jobs=-1)\n",
    "print('Accuracy: %.3f (%.3f)' % (np.mean(scores), np.std(scores)))"
   ]
  },
  {
   "cell_type": "code",
   "execution_count": 55,
   "metadata": {},
   "outputs": [],
   "source": [
    "t = test_['id']\n",
    "test_ = test_.drop([\"id\"], axis = 1)"
   ]
  },
  {
   "cell_type": "code",
   "execution_count": 56,
   "metadata": {},
   "outputs": [
    {
     "data": {
      "text/html": [
       "<div>\n",
       "<style scoped>\n",
       "    .dataframe tbody tr th:only-of-type {\n",
       "        vertical-align: middle;\n",
       "    }\n",
       "\n",
       "    .dataframe tbody tr th {\n",
       "        vertical-align: top;\n",
       "    }\n",
       "\n",
       "    .dataframe thead th {\n",
       "        text-align: right;\n",
       "    }\n",
       "</style>\n",
       "<table border=\"1\" class=\"dataframe\">\n",
       "  <thead>\n",
       "    <tr style=\"text-align: right;\">\n",
       "      <th></th>\n",
       "      <th>amount_tsh</th>\n",
       "      <th>funder</th>\n",
       "      <th>gps_height</th>\n",
       "      <th>installer</th>\n",
       "      <th>longitude</th>\n",
       "      <th>latitude</th>\n",
       "      <th>wpt_name</th>\n",
       "      <th>num_private</th>\n",
       "      <th>basin</th>\n",
       "      <th>subvillage</th>\n",
       "      <th>...</th>\n",
       "      <th>source_type</th>\n",
       "      <th>source_class</th>\n",
       "      <th>waterpoint_type</th>\n",
       "      <th>waterpoint_type_group</th>\n",
       "      <th>month</th>\n",
       "      <th>year</th>\n",
       "      <th>permit_0</th>\n",
       "      <th>permit_1</th>\n",
       "      <th>public_meeting_0</th>\n",
       "      <th>public_meeting_1</th>\n",
       "    </tr>\n",
       "  </thead>\n",
       "  <tbody>\n",
       "    <tr>\n",
       "      <td>0</td>\n",
       "      <td>0.0</td>\n",
       "      <td>1.705882</td>\n",
       "      <td>1996</td>\n",
       "      <td>1.650000</td>\n",
       "      <td>35.290799</td>\n",
       "      <td>-4.059696</td>\n",
       "      <td>1.163533</td>\n",
       "      <td>0</td>\n",
       "      <td>1.235535</td>\n",
       "      <td>0.000000</td>\n",
       "      <td>...</td>\n",
       "      <td>1.334495</td>\n",
       "      <td>1.195600</td>\n",
       "      <td>0.325177</td>\n",
       "      <td>0.325177</td>\n",
       "      <td>2</td>\n",
       "      <td>2013</td>\n",
       "      <td>0</td>\n",
       "      <td>1</td>\n",
       "      <td>0</td>\n",
       "      <td>1</td>\n",
       "    </tr>\n",
       "    <tr>\n",
       "      <td>1</td>\n",
       "      <td>0.0</td>\n",
       "      <td>0.993683</td>\n",
       "      <td>1569</td>\n",
       "      <td>1.193188</td>\n",
       "      <td>36.656709</td>\n",
       "      <td>-3.309214</td>\n",
       "      <td>1.163533</td>\n",
       "      <td>0</td>\n",
       "      <td>1.273863</td>\n",
       "      <td>1.163533</td>\n",
       "      <td>...</td>\n",
       "      <td>1.340471</td>\n",
       "      <td>1.155154</td>\n",
       "      <td>1.329718</td>\n",
       "      <td>1.245231</td>\n",
       "      <td>2</td>\n",
       "      <td>2013</td>\n",
       "      <td>0</td>\n",
       "      <td>1</td>\n",
       "      <td>0</td>\n",
       "      <td>1</td>\n",
       "    </tr>\n",
       "    <tr>\n",
       "      <td>2</td>\n",
       "      <td>0.0</td>\n",
       "      <td>0.993683</td>\n",
       "      <td>1567</td>\n",
       "      <td>1.193188</td>\n",
       "      <td>34.767863</td>\n",
       "      <td>-5.004344</td>\n",
       "      <td>1.163533</td>\n",
       "      <td>0</td>\n",
       "      <td>1.235535</td>\n",
       "      <td>1.163533</td>\n",
       "      <td>...</td>\n",
       "      <td>1.334495</td>\n",
       "      <td>1.195600</td>\n",
       "      <td>0.325177</td>\n",
       "      <td>0.325177</td>\n",
       "      <td>2</td>\n",
       "      <td>2013</td>\n",
       "      <td>0</td>\n",
       "      <td>1</td>\n",
       "      <td>0</td>\n",
       "      <td>1</td>\n",
       "    </tr>\n",
       "    <tr>\n",
       "      <td>3</td>\n",
       "      <td>0.0</td>\n",
       "      <td>1.163533</td>\n",
       "      <td>267</td>\n",
       "      <td>1.163533</td>\n",
       "      <td>38.058046</td>\n",
       "      <td>-9.418672</td>\n",
       "      <td>1.163533</td>\n",
       "      <td>0</td>\n",
       "      <td>0.820444</td>\n",
       "      <td>1.163533</td>\n",
       "      <td>...</td>\n",
       "      <td>1.038351</td>\n",
       "      <td>1.155154</td>\n",
       "      <td>0.325177</td>\n",
       "      <td>0.325177</td>\n",
       "      <td>1</td>\n",
       "      <td>2013</td>\n",
       "      <td>0</td>\n",
       "      <td>1</td>\n",
       "      <td>0</td>\n",
       "      <td>1</td>\n",
       "    </tr>\n",
       "    <tr>\n",
       "      <td>4</td>\n",
       "      <td>500.0</td>\n",
       "      <td>1.163533</td>\n",
       "      <td>1260</td>\n",
       "      <td>1.163533</td>\n",
       "      <td>35.006123</td>\n",
       "      <td>-10.950412</td>\n",
       "      <td>1.163533</td>\n",
       "      <td>0</td>\n",
       "      <td>0.820444</td>\n",
       "      <td>1.163533</td>\n",
       "      <td>...</td>\n",
       "      <td>1.340471</td>\n",
       "      <td>1.155154</td>\n",
       "      <td>1.329718</td>\n",
       "      <td>1.245231</td>\n",
       "      <td>3</td>\n",
       "      <td>2013</td>\n",
       "      <td>0</td>\n",
       "      <td>1</td>\n",
       "      <td>0</td>\n",
       "      <td>1</td>\n",
       "    </tr>\n",
       "  </tbody>\n",
       "</table>\n",
       "<p>5 rows × 42 columns</p>\n",
       "</div>"
      ],
      "text/plain": [
       "   amount_tsh    funder  gps_height  installer  longitude   latitude  \\\n",
       "0         0.0  1.705882        1996   1.650000  35.290799  -4.059696   \n",
       "1         0.0  0.993683        1569   1.193188  36.656709  -3.309214   \n",
       "2         0.0  0.993683        1567   1.193188  34.767863  -5.004344   \n",
       "3         0.0  1.163533         267   1.163533  38.058046  -9.418672   \n",
       "4       500.0  1.163533        1260   1.163533  35.006123 -10.950412   \n",
       "\n",
       "   wpt_name  num_private     basin  subvillage  ...  source_type  \\\n",
       "0  1.163533            0  1.235535    0.000000  ...     1.334495   \n",
       "1  1.163533            0  1.273863    1.163533  ...     1.340471   \n",
       "2  1.163533            0  1.235535    1.163533  ...     1.334495   \n",
       "3  1.163533            0  0.820444    1.163533  ...     1.038351   \n",
       "4  1.163533            0  0.820444    1.163533  ...     1.340471   \n",
       "\n",
       "   source_class  waterpoint_type  waterpoint_type_group  month  year  \\\n",
       "0      1.195600         0.325177               0.325177      2  2013   \n",
       "1      1.155154         1.329718               1.245231      2  2013   \n",
       "2      1.195600         0.325177               0.325177      2  2013   \n",
       "3      1.155154         0.325177               0.325177      1  2013   \n",
       "4      1.155154         1.329718               1.245231      3  2013   \n",
       "\n",
       "   permit_0  permit_1  public_meeting_0  public_meeting_1  \n",
       "0         0         1                 0                 1  \n",
       "1         0         1                 0                 1  \n",
       "2         0         1                 0                 1  \n",
       "3         0         1                 0                 1  \n",
       "4         0         1                 0                 1  \n",
       "\n",
       "[5 rows x 42 columns]"
      ]
     },
     "execution_count": 56,
     "metadata": {},
     "output_type": "execute_result"
    }
   ],
   "source": [
    "test_.head()"
   ]
  },
  {
   "cell_type": "markdown",
   "metadata": {},
   "source": [
    "### normalization of test_   set and predict values for  test_ dataset"
   ]
  },
  {
   "cell_type": "code",
   "execution_count": 57,
   "metadata": {},
   "outputs": [],
   "source": [
    "# test_=((test_- test_.min())/(test_.max() - test_.min()))\n",
    "test_predictions = model.predict(test_)"
   ]
  },
  {
   "cell_type": "markdown",
   "metadata": {},
   "source": [
    "### create csv file for output predictions "
   ]
  },
  {
   "cell_type": "code",
   "execution_count": 58,
   "metadata": {},
   "outputs": [],
   "source": [
    "test_predictions = test_predictions.tolist()\n",
    "list_to_csv = []\n",
    "t = list(t)\n",
    "for i  in range(len(t)):\n",
    "    if (test_predictions[i] == 0):\n",
    "        list_to_csv.append([t[i], 'non functional'])\n",
    "    elif (test_predictions[i] == 1):\n",
    "        list_to_csv.append([t[i], 'functional needs repair'])\n",
    "    else:\n",
    "        list_to_csv.append([t[i], 'functional'])\n",
    "\n",
    "to_csv = pd.DataFrame(list_to_csv, columns=['id', 'status_group'])\n",
    "to_csv.to_csv('submission.csv', index = False)"
   ]
  },
  {
   "cell_type": "code",
   "execution_count": 59,
   "metadata": {},
   "outputs": [
    {
     "name": "stdout",
     "output_type": "stream",
     "text": [
      "14850\n"
     ]
    }
   ],
   "source": [
    "print(len(to_csv.index))"
   ]
  },
  {
   "cell_type": "markdown",
   "metadata": {},
   "source": [
    "### CatBoost classification"
   ]
  },
  {
   "cell_type": "markdown",
   "metadata": {},
   "source": [
    "##### create list for holding categorical features"
   ]
  },
  {
   "cell_type": "code",
   "execution_count": 60,
   "metadata": {},
   "outputs": [],
   "source": [
    "###   create list for holding categorical features\n",
    "\n",
    "cat_features_ = []\n",
    "for ele in train.columns:\n",
    "    if(type(train[ele][0]) is str):\n",
    "        cat_features_.append(ele)"
   ]
  },
  {
   "cell_type": "code",
   "execution_count": 61,
   "metadata": {},
   "outputs": [
    {
     "data": {
      "text/plain": [
       "['funder',\n",
       " 'installer',\n",
       " 'wpt_name',\n",
       " 'basin',\n",
       " 'subvillage',\n",
       " 'region',\n",
       " 'lga',\n",
       " 'ward',\n",
       " 'recorded_by',\n",
       " 'scheme_management',\n",
       " 'scheme_name',\n",
       " 'extraction_type',\n",
       " 'extraction_type_group',\n",
       " 'extraction_type_class',\n",
       " 'management',\n",
       " 'management_group',\n",
       " 'payment',\n",
       " 'payment_type',\n",
       " 'water_quality',\n",
       " 'quality_group',\n",
       " 'quantity',\n",
       " 'quantity_group',\n",
       " 'source',\n",
       " 'source_type',\n",
       " 'source_class',\n",
       " 'waterpoint_type',\n",
       " 'waterpoint_type_group']"
      ]
     },
     "execution_count": 61,
     "metadata": {},
     "output_type": "execute_result"
    }
   ],
   "source": [
    "cat_features_"
   ]
  },
  {
   "cell_type": "code",
   "execution_count": 62,
   "metadata": {},
   "outputs": [
    {
     "data": {
      "text/plain": [
       "Index(['amount_tsh', 'funder', 'gps_height', 'installer', 'longitude',\n",
       "       'latitude', 'wpt_name', 'num_private', 'basin', 'subvillage', 'region',\n",
       "       'region_code', 'district_code', 'lga', 'ward', 'population',\n",
       "       'recorded_by', 'scheme_management', 'scheme_name', 'construction_year',\n",
       "       'extraction_type', 'extraction_type_group', 'extraction_type_class',\n",
       "       'management', 'management_group', 'payment', 'payment_type',\n",
       "       'water_quality', 'quality_group', 'quantity', 'quantity_group',\n",
       "       'source', 'source_type', 'source_class', 'waterpoint_type',\n",
       "       'waterpoint_type_group', 'month', 'year', 'permit_0', 'permit_1',\n",
       "       'public_meeting_0', 'public_meeting_1'],\n",
       "      dtype='object')"
      ]
     },
     "execution_count": 62,
     "metadata": {},
     "output_type": "execute_result"
    }
   ],
   "source": [
    "train.columns"
   ]
  },
  {
   "cell_type": "code",
   "execution_count": 63,
   "metadata": {},
   "outputs": [],
   "source": [
    "t_cat = test['id']\n",
    "test = test.drop([\"id\"], axis = 1)"
   ]
  },
  {
   "cell_type": "code",
   "execution_count": 64,
   "metadata": {},
   "outputs": [],
   "source": [
    "train[cat_features_] = train[cat_features_].astype('category')\n",
    "test[cat_features_] = test[cat_features_].astype('category')"
   ]
  },
  {
   "cell_type": "markdown",
   "metadata": {},
   "source": [
    "### split dataset into train and test sets"
   ]
  },
  {
   "cell_type": "code",
   "execution_count": 65,
   "metadata": {},
   "outputs": [],
   "source": [
    "X_train_catboost, X_test_catboost, y_train_catboost, y_test_catboost = train_test_split(train,train_label['status_group'], test_size=0.1, stratify= train_label['status_group'])\n"
   ]
  },
  {
   "cell_type": "markdown",
   "metadata": {},
   "source": [
    "### classify using catboost classifier"
   ]
  },
  {
   "cell_type": "code",
   "execution_count": 66,
   "metadata": {},
   "outputs": [
    {
     "data": {
      "text/plain": [
       "<catboost.core.CatBoostClassifier at 0x166629ff108>"
      ]
     },
     "execution_count": 66,
     "metadata": {},
     "output_type": "execute_result"
    }
   ],
   "source": [
    "from catboost import CatBoostClassifier\n",
    "\n",
    "clf = CatBoostClassifier(\n",
    "    max_ctr_complexity=5,\n",
    "    task_type = 'CPU',\n",
    "    iterations=10000,\n",
    "    eval_metric='AUC',\n",
    "    od_type='Iter',\n",
    "    od_wait=500,\n",
    "    cat_features = cat_features,\n",
    "    verbose=False\n",
    "    \n",
    ")\n",
    "\n",
    "\n",
    "clf.fit(X_train_catboost,y_train_catboost, \n",
    "        cat_features=cat_features_, \n",
    "        eval_set=(X_test_catboost, y_test_catboost), \n",
    "        verbose=False\n",
    ")"
   ]
  },
  {
   "cell_type": "markdown",
   "metadata": {},
   "source": [
    "### predict outcome for train and test sets"
   ]
  },
  {
   "cell_type": "code",
   "execution_count": 67,
   "metadata": {},
   "outputs": [],
   "source": [
    "test_pred = clf.predict(data=X_test_catboost)\n",
    "train_pred = clf.predict(data=X_train_catboost)"
   ]
  },
  {
   "cell_type": "markdown",
   "metadata": {},
   "source": [
    "### find accuracy for test and train sets"
   ]
  },
  {
   "cell_type": "code",
   "execution_count": 68,
   "metadata": {},
   "outputs": [
    {
     "name": "stdout",
     "output_type": "stream",
     "text": [
      "Accuracy: 81.05%\n"
     ]
    }
   ],
   "source": [
    "accuracy = accuracy_score(y_test_catboost, test_pred)\n",
    "print(\"Accuracy: %.2f%%\" % (accuracy * 100.0))"
   ]
  },
  {
   "cell_type": "code",
   "execution_count": 69,
   "metadata": {},
   "outputs": [
    {
     "name": "stdout",
     "output_type": "stream",
     "text": [
      "Accuracy: 88.92%\n"
     ]
    }
   ],
   "source": [
    "accuracy = accuracy_score(y_train_catboost, train_pred)\n",
    "print(\"Accuracy: %.2f%%\" % (accuracy * 100.0))"
   ]
  },
  {
   "cell_type": "markdown",
   "metadata": {},
   "source": [
    "### Confusion matrix for Catboost"
   ]
  },
  {
   "cell_type": "code",
   "execution_count": 71,
   "metadata": {},
   "outputs": [
    {
     "data": {
      "image/png": "[encoded data removed]",
      "text/plain": [
       "<Figure size 432x288 with 1 Axes>"
      ]
     },
     "metadata": {
      "needs_background": "light"
     },
     "output_type": "display_data"
    }
   ],
   "source": [
    "from sklearn.metrics import confusion_matrix\n",
    "cfm = confusion_matrix(y_test_catboost, test_pred)\n",
    "plot_confusion_matrix(cfm)\n",
    "plt.show()"
   ]
  },
  {
   "cell_type": "code",
   "execution_count": 70,
   "metadata": {},
   "outputs": [
    {
     "data": {
      "image/png": "[encoded data removed]",
      "text/plain": [
       "<Figure size 432x288 with 1 Axes>"
      ]
     },
     "metadata": {
      "needs_background": "light"
     },
     "output_type": "display_data"
    }
   ],
   "source": [
    "cfm = confusion_matrix(y_train_catboost, train_pred)\n",
    "plot_confusion_matrix(cfm)\n",
    "plt.show()"
   ]
  },
  {
   "cell_type": "markdown",
   "metadata": {},
   "source": [
    "### K-Fold cross validation for Catboost"
   ]
  },
  {
   "cell_type": "code",
   "execution_count": null,
   "metadata": {},
   "outputs": [],
   "source": [
    "cv = KFold(n_splits=10, random_state=42, shuffle=True)\n",
    "scores = cross_val_score(clf, X_train_catboost, y_train_catboost, scoring='accuracy', cv=5, n_jobs=-1)\n",
    "print('Accuracy: %.3f (%.3f)' % (np.mean(scores), np.std(scores)))"
   ]
  },
  {
   "cell_type": "markdown",
   "metadata": {},
   "source": [
    "### predict for test set"
   ]
  },
  {
   "cell_type": "code",
   "execution_count": 72,
   "metadata": {},
   "outputs": [],
   "source": [
    "testpredictions = clf.predict(test)"
   ]
  },
  {
   "cell_type": "markdown",
   "metadata": {},
   "source": [
    "### create csv file"
   ]
  },
  {
   "cell_type": "code",
   "execution_count": 73,
   "metadata": {},
   "outputs": [],
   "source": [
    "test_predictions = testpredictions.tolist()\n",
    "list_to_csv = []\n",
    "t_catboost = list(t)\n",
    "for i  in range(len(t)):\n",
    "    if (test_predictions[i][0] == 0):\n",
    "        list_to_csv.append([t_catboost[i], 'non functional'])\n",
    "    elif (test_predictions[i][0] == 1):\n",
    "        list_to_csv.append([t_catboost[i], 'functional needs repair'])\n",
    "    elif (test_predictions[i][0] == 2):\n",
    "        list_to_csv.append([t_catboost[i], 'functional'])\n",
    "\n",
    "to_csv_ = pd.DataFrame(list_to_csv, columns=['id', 'status_group'])\n",
    "to_csv_.to_csv('submission_catboost.csv', index = False)"
   ]
  },
  {
   "cell_type": "markdown",
   "metadata": {},
   "source": [
    "### Catboost give high accuracy after submitting the csv file to drivendata"
   ]
  },
  {
   "cell_type": "code",
   "execution_count": null,
   "metadata": {},
   "outputs": [],
   "source": []
  }
 ],
 "metadata": {
  "kernelspec": {
   "display_name": "Python 3",
   "language": "python",
   "name": "python3"
  },
  "language_info": {
   "codemirror_mode": {
    "name": "ipython",
    "version": 3
   },
   "file_extension": ".py",
   "mimetype": "text/x-python",
   "name": "python",
   "nbconvert_exporter": "python",
   "pygments_lexer": "ipython3",
   "version": "3.7.4"
  }
 },
 "nbformat": 4,
 "nbformat_minor": 2
}
